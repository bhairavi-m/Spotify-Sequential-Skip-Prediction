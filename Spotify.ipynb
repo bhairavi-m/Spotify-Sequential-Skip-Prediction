{
  "nbformat": 4,
  "nbformat_minor": 0,
  "metadata": {
    "colab": {
      "name": "CIS 520: OK Computer.ipynb",
      "provenance": []
    },
    "kernelspec": {
      "name": "python3",
      "display_name": "Python 3"
    },
    "language_info": {
      "name": "python"
    }
  },
  "cells": [
    {
      "cell_type": "code",
      "execution_count": 1,
      "metadata": {
        "id": "-UauvLdngvhJ"
      },
      "outputs": [],
      "source": [
        "import numpy as np\n",
        "import pandas as pd\n",
        "from sklearn.decomposition import PCA\n",
        "import matplotlib.pyplot as plt\n",
        "from xgboost import XGBClassifier\n",
        "from sklearn.metrics import accuracy_score\n",
        "from sklearn.ensemble import RandomForestClassifier\n",
        "from sklearn.datasets import make_classification\n",
        "import math"
      ]
    },
    {
      "cell_type": "code",
      "source": [
        "from google.colab import drive\n",
        "drive.mount('/content/drive')"
      ],
      "metadata": {
        "colab": {
          "base_uri": "https://localhost:8080/"
        },
        "id": "4579y1aTh9e1",
        "outputId": "ac9d7d26-151f-4bfd-dcfc-ed927f88d727"
      },
      "execution_count": 2,
      "outputs": [
        {
          "output_type": "stream",
          "name": "stdout",
          "text": [
            "Drive already mounted at /content/drive; to attempt to forcibly remount, call drive.mount(\"/content/drive\", force_remount=True).\n"
          ]
        }
      ]
    },
    {
      "cell_type": "markdown",
      "source": [
        "**DATA EXPLORATION**"
      ],
      "metadata": {
        "id": "MgiQChX6JOhu"
      }
    },
    {
      "cell_type": "markdown",
      "source": [
        "Extracting Track Features"
      ],
      "metadata": {
        "id": "NGm7x9z3iM5I"
      }
    },
    {
      "cell_type": "code",
      "source": [
        "features = pd.read_csv(\"/content/drive/MyDrive/520final/data/track_features/tf_mini.csv\")"
      ],
      "metadata": {
        "id": "I7nkKiDCiACb"
      },
      "execution_count": 3,
      "outputs": []
    },
    {
      "cell_type": "markdown",
      "source": [
        "Track features at a glance"
      ],
      "metadata": {
        "id": "48sctseKiWSP"
      }
    },
    {
      "cell_type": "code",
      "source": [
        "features.head().T"
      ],
      "metadata": {
        "colab": {
          "base_uri": "https://localhost:8080/",
          "height": 979
        },
        "id": "u3WE0x2tiRfY",
        "outputId": "59077408-7920-456b-f6d0-bfb12fc6e3cf"
      },
      "execution_count": 4,
      "outputs": [
        {
          "output_type": "execute_result",
          "data": {
            "text/html": [
              "\n",
              "  <div id=\"df-c50492c9-6431-4dab-b97f-0b8cd2cb2a95\">\n",
              "    <div class=\"colab-df-container\">\n",
              "      <div>\n",
              "<style scoped>\n",
              "    .dataframe tbody tr th:only-of-type {\n",
              "        vertical-align: middle;\n",
              "    }\n",
              "\n",
              "    .dataframe tbody tr th {\n",
              "        vertical-align: top;\n",
              "    }\n",
              "\n",
              "    .dataframe thead th {\n",
              "        text-align: right;\n",
              "    }\n",
              "</style>\n",
              "<table border=\"1\" class=\"dataframe\">\n",
              "  <thead>\n",
              "    <tr style=\"text-align: right;\">\n",
              "      <th></th>\n",
              "      <th>0</th>\n",
              "      <th>1</th>\n",
              "      <th>2</th>\n",
              "      <th>3</th>\n",
              "      <th>4</th>\n",
              "    </tr>\n",
              "  </thead>\n",
              "  <tbody>\n",
              "    <tr>\n",
              "      <th>track_id</th>\n",
              "      <td>t_a540e552-16d4-42f8-a185-232bd650ea7d</td>\n",
              "      <td>t_67965da0-132b-4b1e-8a69-0ef99b32287c</td>\n",
              "      <td>t_0614ecd3-a7d5-40a1-816e-156d5872a467</td>\n",
              "      <td>t_070a63a0-744a-434e-9913-a97b02926a29</td>\n",
              "      <td>t_d6990e17-9c31-4b01-8559-47d9ce476df1</td>\n",
              "    </tr>\n",
              "    <tr>\n",
              "      <th>duration</th>\n",
              "      <td>109.707</td>\n",
              "      <td>187.693</td>\n",
              "      <td>160.84</td>\n",
              "      <td>175.4</td>\n",
              "      <td>369.6</td>\n",
              "    </tr>\n",
              "    <tr>\n",
              "      <th>release_year</th>\n",
              "      <td>1950</td>\n",
              "      <td>1950</td>\n",
              "      <td>1951</td>\n",
              "      <td>1951</td>\n",
              "      <td>1951</td>\n",
              "    </tr>\n",
              "    <tr>\n",
              "      <th>us_popularity_estimate</th>\n",
              "      <td>99.9754</td>\n",
              "      <td>99.9694</td>\n",
              "      <td>99.6025</td>\n",
              "      <td>99.665</td>\n",
              "      <td>99.9918</td>\n",
              "    </tr>\n",
              "    <tr>\n",
              "      <th>acousticness</th>\n",
              "      <td>0.45804</td>\n",
              "      <td>0.916272</td>\n",
              "      <td>0.812884</td>\n",
              "      <td>0.396854</td>\n",
              "      <td>0.728831</td>\n",
              "    </tr>\n",
              "    <tr>\n",
              "      <th>beat_strength</th>\n",
              "      <td>0.519497</td>\n",
              "      <td>0.419223</td>\n",
              "      <td>0.42589</td>\n",
              "      <td>0.400934</td>\n",
              "      <td>0.371328</td>\n",
              "    </tr>\n",
              "    <tr>\n",
              "      <th>bounciness</th>\n",
              "      <td>0.504949</td>\n",
              "      <td>0.54553</td>\n",
              "      <td>0.50828</td>\n",
              "      <td>0.35999</td>\n",
              "      <td>0.335115</td>\n",
              "    </tr>\n",
              "    <tr>\n",
              "      <th>danceability</th>\n",
              "      <td>0.399767</td>\n",
              "      <td>0.491235</td>\n",
              "      <td>0.491625</td>\n",
              "      <td>0.552227</td>\n",
              "      <td>0.483044</td>\n",
              "    </tr>\n",
              "    <tr>\n",
              "      <th>dyn_range_mean</th>\n",
              "      <td>7.51188</td>\n",
              "      <td>9.09838</td>\n",
              "      <td>8.36867</td>\n",
              "      <td>5.96735</td>\n",
              "      <td>5.80268</td>\n",
              "    </tr>\n",
              "    <tr>\n",
              "      <th>energy</th>\n",
              "      <td>0.817709</td>\n",
              "      <td>0.154258</td>\n",
              "      <td>0.358813</td>\n",
              "      <td>0.514585</td>\n",
              "      <td>0.721442</td>\n",
              "    </tr>\n",
              "    <tr>\n",
              "      <th>flatness</th>\n",
              "      <td>0.903753</td>\n",
              "      <td>1.03795</td>\n",
              "      <td>1.00427</td>\n",
              "      <td>0.975138</td>\n",
              "      <td>0.976866</td>\n",
              "    </tr>\n",
              "    <tr>\n",
              "      <th>instrumentalness</th>\n",
              "      <td>3.25433e-06</td>\n",
              "      <td>8.34485e-12</td>\n",
              "      <td>2.92748e-10</td>\n",
              "      <td>3.98134e-11</td>\n",
              "      <td>2.54188e-10</td>\n",
              "    </tr>\n",
              "    <tr>\n",
              "      <th>key</th>\n",
              "      <td>0</td>\n",
              "      <td>0</td>\n",
              "      <td>0</td>\n",
              "      <td>0</td>\n",
              "      <td>0</td>\n",
              "    </tr>\n",
              "    <tr>\n",
              "      <th>liveness</th>\n",
              "      <td>0.132124</td>\n",
              "      <td>0.163281</td>\n",
              "      <td>0.0901148</td>\n",
              "      <td>0.360924</td>\n",
              "      <td>0.189162</td>\n",
              "    </tr>\n",
              "    <tr>\n",
              "      <th>loudness</th>\n",
              "      <td>-11.238</td>\n",
              "      <td>-13.706</td>\n",
              "      <td>-10.522</td>\n",
              "      <td>-11.032</td>\n",
              "      <td>-6.836</td>\n",
              "    </tr>\n",
              "    <tr>\n",
              "      <th>mechanism</th>\n",
              "      <td>0.3861</td>\n",
              "      <td>0.125</td>\n",
              "      <td>0.200669</td>\n",
              "      <td>0.427152</td>\n",
              "      <td>0.28125</td>\n",
              "    </tr>\n",
              "    <tr>\n",
              "      <th>mode</th>\n",
              "      <td>major</td>\n",
              "      <td>major</td>\n",
              "      <td>minor</td>\n",
              "      <td>major</td>\n",
              "      <td>major</td>\n",
              "    </tr>\n",
              "    <tr>\n",
              "      <th>organism</th>\n",
              "      <td>0.541606</td>\n",
              "      <td>0.895874</td>\n",
              "      <td>0.806136</td>\n",
              "      <td>0.492772</td>\n",
              "      <td>0.723808</td>\n",
              "    </tr>\n",
              "    <tr>\n",
              "      <th>speechiness</th>\n",
              "      <td>0.0799848</td>\n",
              "      <td>0.0838769</td>\n",
              "      <td>0.0387772</td>\n",
              "      <td>0.0383373</td>\n",
              "      <td>0.0320429</td>\n",
              "    </tr>\n",
              "    <tr>\n",
              "      <th>tempo</th>\n",
              "      <td>166.287</td>\n",
              "      <td>95.261</td>\n",
              "      <td>105.186</td>\n",
              "      <td>119.441</td>\n",
              "      <td>95.261</td>\n",
              "    </tr>\n",
              "    <tr>\n",
              "      <th>time_signature</th>\n",
              "      <td>4</td>\n",
              "      <td>3</td>\n",
              "      <td>4</td>\n",
              "      <td>4</td>\n",
              "      <td>4</td>\n",
              "    </tr>\n",
              "    <tr>\n",
              "      <th>valence</th>\n",
              "      <td>0.935512</td>\n",
              "      <td>0.359675</td>\n",
              "      <td>0.726769</td>\n",
              "      <td>0.859075</td>\n",
              "      <td>0.562343</td>\n",
              "    </tr>\n",
              "    <tr>\n",
              "      <th>acoustic_vector_0</th>\n",
              "      <td>-0.0332839</td>\n",
              "      <td>0.145703</td>\n",
              "      <td>0.0217196</td>\n",
              "      <td>0.0391431</td>\n",
              "      <td>0.131931</td>\n",
              "    </tr>\n",
              "    <tr>\n",
              "      <th>acoustic_vector_1</th>\n",
              "      <td>-0.411896</td>\n",
              "      <td>-0.850372</td>\n",
              "      <td>-0.743634</td>\n",
              "      <td>-0.267555</td>\n",
              "      <td>-0.292523</td>\n",
              "    </tr>\n",
              "    <tr>\n",
              "      <th>acoustic_vector_2</th>\n",
              "      <td>-0.0285799</td>\n",
              "      <td>0.12386</td>\n",
              "      <td>0.333247</td>\n",
              "      <td>-0.0518253</td>\n",
              "      <td>-0.174819</td>\n",
              "    </tr>\n",
              "    <tr>\n",
              "      <th>acoustic_vector_3</th>\n",
              "      <td>0.349438</td>\n",
              "      <td>0.746904</td>\n",
              "      <td>0.568447</td>\n",
              "      <td>0.106173</td>\n",
              "      <td>-0.0344223</td>\n",
              "    </tr>\n",
              "    <tr>\n",
              "      <th>acoustic_vector_4</th>\n",
              "      <td>0.832467</td>\n",
              "      <td>0.371803</td>\n",
              "      <td>0.411094</td>\n",
              "      <td>0.614825</td>\n",
              "      <td>0.717229</td>\n",
              "    </tr>\n",
              "    <tr>\n",
              "      <th>acoustic_vector_5</th>\n",
              "      <td>-0.213871</td>\n",
              "      <td>-0.420558</td>\n",
              "      <td>-0.187749</td>\n",
              "      <td>-0.111419</td>\n",
              "      <td>-0.0162393</td>\n",
              "    </tr>\n",
              "    <tr>\n",
              "      <th>acoustic_vector_6</th>\n",
              "      <td>-0.299464</td>\n",
              "      <td>-0.21312</td>\n",
              "      <td>-0.387599</td>\n",
              "      <td>-0.265953</td>\n",
              "      <td>-0.392694</td>\n",
              "    </tr>\n",
              "    <tr>\n",
              "      <th>acoustic_vector_7</th>\n",
              "      <td>-0.675907</td>\n",
              "      <td>-0.525795</td>\n",
              "      <td>-0.433496</td>\n",
              "      <td>-0.542753</td>\n",
              "      <td>-0.455496</td>\n",
              "    </tr>\n",
              "  </tbody>\n",
              "</table>\n",
              "</div>\n",
              "      <button class=\"colab-df-convert\" onclick=\"convertToInteractive('df-c50492c9-6431-4dab-b97f-0b8cd2cb2a95')\"\n",
              "              title=\"Convert this dataframe to an interactive table.\"\n",
              "              style=\"display:none;\">\n",
              "        \n",
              "  <svg xmlns=\"http://www.w3.org/2000/svg\" height=\"24px\"viewBox=\"0 0 24 24\"\n",
              "       width=\"24px\">\n",
              "    <path d=\"M0 0h24v24H0V0z\" fill=\"none\"/>\n",
              "    <path d=\"M18.56 5.44l.94 2.06.94-2.06 2.06-.94-2.06-.94-.94-2.06-.94 2.06-2.06.94zm-11 1L8.5 8.5l.94-2.06 2.06-.94-2.06-.94L8.5 2.5l-.94 2.06-2.06.94zm10 10l.94 2.06.94-2.06 2.06-.94-2.06-.94-.94-2.06-.94 2.06-2.06.94z\"/><path d=\"M17.41 7.96l-1.37-1.37c-.4-.4-.92-.59-1.43-.59-.52 0-1.04.2-1.43.59L10.3 9.45l-7.72 7.72c-.78.78-.78 2.05 0 2.83L4 21.41c.39.39.9.59 1.41.59.51 0 1.02-.2 1.41-.59l7.78-7.78 2.81-2.81c.8-.78.8-2.07 0-2.86zM5.41 20L4 18.59l7.72-7.72 1.47 1.35L5.41 20z\"/>\n",
              "  </svg>\n",
              "      </button>\n",
              "      \n",
              "  <style>\n",
              "    .colab-df-container {\n",
              "      display:flex;\n",
              "      flex-wrap:wrap;\n",
              "      gap: 12px;\n",
              "    }\n",
              "\n",
              "    .colab-df-convert {\n",
              "      background-color: #E8F0FE;\n",
              "      border: none;\n",
              "      border-radius: 50%;\n",
              "      cursor: pointer;\n",
              "      display: none;\n",
              "      fill: #1967D2;\n",
              "      height: 32px;\n",
              "      padding: 0 0 0 0;\n",
              "      width: 32px;\n",
              "    }\n",
              "\n",
              "    .colab-df-convert:hover {\n",
              "      background-color: #E2EBFA;\n",
              "      box-shadow: 0px 1px 2px rgba(60, 64, 67, 0.3), 0px 1px 3px 1px rgba(60, 64, 67, 0.15);\n",
              "      fill: #174EA6;\n",
              "    }\n",
              "\n",
              "    [theme=dark] .colab-df-convert {\n",
              "      background-color: #3B4455;\n",
              "      fill: #D2E3FC;\n",
              "    }\n",
              "\n",
              "    [theme=dark] .colab-df-convert:hover {\n",
              "      background-color: #434B5C;\n",
              "      box-shadow: 0px 1px 3px 1px rgba(0, 0, 0, 0.15);\n",
              "      filter: drop-shadow(0px 1px 2px rgba(0, 0, 0, 0.3));\n",
              "      fill: #FFFFFF;\n",
              "    }\n",
              "  </style>\n",
              "\n",
              "      <script>\n",
              "        const buttonEl =\n",
              "          document.querySelector('#df-c50492c9-6431-4dab-b97f-0b8cd2cb2a95 button.colab-df-convert');\n",
              "        buttonEl.style.display =\n",
              "          google.colab.kernel.accessAllowed ? 'block' : 'none';\n",
              "\n",
              "        async function convertToInteractive(key) {\n",
              "          const element = document.querySelector('#df-c50492c9-6431-4dab-b97f-0b8cd2cb2a95');\n",
              "          const dataTable =\n",
              "            await google.colab.kernel.invokeFunction('convertToInteractive',\n",
              "                                                     [key], {});\n",
              "          if (!dataTable) return;\n",
              "\n",
              "          const docLinkHtml = 'Like what you see? Visit the ' +\n",
              "            '<a target=\"_blank\" href=https://colab.research.google.com/notebooks/data_table.ipynb>data table notebook</a>'\n",
              "            + ' to learn more about interactive tables.';\n",
              "          element.innerHTML = '';\n",
              "          dataTable['output_type'] = 'display_data';\n",
              "          await google.colab.output.renderOutput(dataTable, element);\n",
              "          const docLink = document.createElement('div');\n",
              "          docLink.innerHTML = docLinkHtml;\n",
              "          element.appendChild(docLink);\n",
              "        }\n",
              "      </script>\n",
              "    </div>\n",
              "  </div>\n",
              "  "
            ],
            "text/plain": [
              "                                                             0  ...                                       4\n",
              "track_id                t_a540e552-16d4-42f8-a185-232bd650ea7d  ...  t_d6990e17-9c31-4b01-8559-47d9ce476df1\n",
              "duration                                               109.707  ...                                   369.6\n",
              "release_year                                              1950  ...                                    1951\n",
              "us_popularity_estimate                                 99.9754  ...                                 99.9918\n",
              "acousticness                                           0.45804  ...                                0.728831\n",
              "beat_strength                                         0.519497  ...                                0.371328\n",
              "bounciness                                            0.504949  ...                                0.335115\n",
              "danceability                                          0.399767  ...                                0.483044\n",
              "dyn_range_mean                                         7.51188  ...                                 5.80268\n",
              "energy                                                0.817709  ...                                0.721442\n",
              "flatness                                              0.903753  ...                                0.976866\n",
              "instrumentalness                                   3.25433e-06  ...                             2.54188e-10\n",
              "key                                                          0  ...                                       0\n",
              "liveness                                              0.132124  ...                                0.189162\n",
              "loudness                                               -11.238  ...                                  -6.836\n",
              "mechanism                                               0.3861  ...                                 0.28125\n",
              "mode                                                     major  ...                                   major\n",
              "organism                                              0.541606  ...                                0.723808\n",
              "speechiness                                          0.0799848  ...                               0.0320429\n",
              "tempo                                                  166.287  ...                                  95.261\n",
              "time_signature                                               4  ...                                       4\n",
              "valence                                               0.935512  ...                                0.562343\n",
              "acoustic_vector_0                                   -0.0332839  ...                                0.131931\n",
              "acoustic_vector_1                                    -0.411896  ...                               -0.292523\n",
              "acoustic_vector_2                                   -0.0285799  ...                               -0.174819\n",
              "acoustic_vector_3                                     0.349438  ...                              -0.0344223\n",
              "acoustic_vector_4                                     0.832467  ...                                0.717229\n",
              "acoustic_vector_5                                    -0.213871  ...                              -0.0162393\n",
              "acoustic_vector_6                                    -0.299464  ...                               -0.392694\n",
              "acoustic_vector_7                                    -0.675907  ...                               -0.455496\n",
              "\n",
              "[30 rows x 5 columns]"
            ]
          },
          "metadata": {},
          "execution_count": 4
        }
      ]
    },
    {
      "cell_type": "markdown",
      "source": [
        "Summary Statistics"
      ],
      "metadata": {
        "id": "1NBrV45Cic4F"
      }
    },
    {
      "cell_type": "code",
      "source": [
        "features.describe().T"
      ],
      "metadata": {
        "colab": {
          "base_uri": "https://localhost:8080/",
          "height": 917
        },
        "id": "S1wFRvTHibXX",
        "outputId": "0af68d50-0ef8-4bec-a9fe-e0422af4542c"
      },
      "execution_count": 5,
      "outputs": [
        {
          "output_type": "execute_result",
          "data": {
            "text/html": [
              "\n",
              "  <div id=\"df-bc2967b1-5d1f-47fd-9cc6-36b6bf3eafb7\">\n",
              "    <div class=\"colab-df-container\">\n",
              "      <div>\n",
              "<style scoped>\n",
              "    .dataframe tbody tr th:only-of-type {\n",
              "        vertical-align: middle;\n",
              "    }\n",
              "\n",
              "    .dataframe tbody tr th {\n",
              "        vertical-align: top;\n",
              "    }\n",
              "\n",
              "    .dataframe thead th {\n",
              "        text-align: right;\n",
              "    }\n",
              "</style>\n",
              "<table border=\"1\" class=\"dataframe\">\n",
              "  <thead>\n",
              "    <tr style=\"text-align: right;\">\n",
              "      <th></th>\n",
              "      <th>count</th>\n",
              "      <th>mean</th>\n",
              "      <th>std</th>\n",
              "      <th>min</th>\n",
              "      <th>25%</th>\n",
              "      <th>50%</th>\n",
              "      <th>75%</th>\n",
              "      <th>max</th>\n",
              "    </tr>\n",
              "  </thead>\n",
              "  <tbody>\n",
              "    <tr>\n",
              "      <th>duration</th>\n",
              "      <td>50704.0</td>\n",
              "      <td>222.267980</td>\n",
              "      <td>72.224839</td>\n",
              "      <td>30.013330</td>\n",
              "      <td>1.839333e+02</td>\n",
              "      <td>214.866669</td>\n",
              "      <td>250.426666</td>\n",
              "      <td>1787.760986</td>\n",
              "    </tr>\n",
              "    <tr>\n",
              "      <th>release_year</th>\n",
              "      <td>50704.0</td>\n",
              "      <td>2010.324748</td>\n",
              "      <td>11.471866</td>\n",
              "      <td>1950.000000</td>\n",
              "      <td>2.009000e+03</td>\n",
              "      <td>2015.000000</td>\n",
              "      <td>2017.000000</td>\n",
              "      <td>2018.000000</td>\n",
              "    </tr>\n",
              "    <tr>\n",
              "      <th>us_popularity_estimate</th>\n",
              "      <td>50704.0</td>\n",
              "      <td>99.455131</td>\n",
              "      <td>1.139222</td>\n",
              "      <td>90.018900</td>\n",
              "      <td>9.950967e+01</td>\n",
              "      <td>99.865444</td>\n",
              "      <td>99.961131</td>\n",
              "      <td>99.999997</td>\n",
              "    </tr>\n",
              "    <tr>\n",
              "      <th>acousticness</th>\n",
              "      <td>50704.0</td>\n",
              "      <td>0.250336</td>\n",
              "      <td>0.276047</td>\n",
              "      <td>0.000000</td>\n",
              "      <td>2.529069e-02</td>\n",
              "      <td>0.135821</td>\n",
              "      <td>0.406142</td>\n",
              "      <td>0.995796</td>\n",
              "    </tr>\n",
              "    <tr>\n",
              "      <th>beat_strength</th>\n",
              "      <td>50704.0</td>\n",
              "      <td>0.492075</td>\n",
              "      <td>0.158102</td>\n",
              "      <td>0.000000</td>\n",
              "      <td>3.743785e-01</td>\n",
              "      <td>0.493764</td>\n",
              "      <td>0.604994</td>\n",
              "      <td>0.990419</td>\n",
              "    </tr>\n",
              "    <tr>\n",
              "      <th>bounciness</th>\n",
              "      <td>50704.0</td>\n",
              "      <td>0.514526</td>\n",
              "      <td>0.182595</td>\n",
              "      <td>0.000000</td>\n",
              "      <td>3.724626e-01</td>\n",
              "      <td>0.522266</td>\n",
              "      <td>0.655912</td>\n",
              "      <td>0.972590</td>\n",
              "    </tr>\n",
              "    <tr>\n",
              "      <th>danceability</th>\n",
              "      <td>50704.0</td>\n",
              "      <td>0.611742</td>\n",
              "      <td>0.166146</td>\n",
              "      <td>0.000000</td>\n",
              "      <td>5.024992e-01</td>\n",
              "      <td>0.625145</td>\n",
              "      <td>0.736241</td>\n",
              "      <td>0.984952</td>\n",
              "    </tr>\n",
              "    <tr>\n",
              "      <th>dyn_range_mean</th>\n",
              "      <td>50704.0</td>\n",
              "      <td>8.215950</td>\n",
              "      <td>2.410626</td>\n",
              "      <td>0.000000</td>\n",
              "      <td>6.356671e+00</td>\n",
              "      <td>8.015075</td>\n",
              "      <td>9.792092</td>\n",
              "      <td>32.342781</td>\n",
              "    </tr>\n",
              "    <tr>\n",
              "      <th>energy</th>\n",
              "      <td>50704.0</td>\n",
              "      <td>0.641440</td>\n",
              "      <td>0.207957</td>\n",
              "      <td>0.000000</td>\n",
              "      <td>5.078394e-01</td>\n",
              "      <td>0.661368</td>\n",
              "      <td>0.803185</td>\n",
              "      <td>0.999877</td>\n",
              "    </tr>\n",
              "    <tr>\n",
              "      <th>flatness</th>\n",
              "      <td>50704.0</td>\n",
              "      <td>0.996548</td>\n",
              "      <td>0.045611</td>\n",
              "      <td>0.000000</td>\n",
              "      <td>9.759097e-01</td>\n",
              "      <td>1.003790</td>\n",
              "      <td>1.026137</td>\n",
              "      <td>1.103213</td>\n",
              "    </tr>\n",
              "    <tr>\n",
              "      <th>instrumentalness</th>\n",
              "      <td>50704.0</td>\n",
              "      <td>0.070587</td>\n",
              "      <td>0.214226</td>\n",
              "      <td>0.000000</td>\n",
              "      <td>1.084167e-08</td>\n",
              "      <td>0.000002</td>\n",
              "      <td>0.000765</td>\n",
              "      <td>0.999399</td>\n",
              "    </tr>\n",
              "    <tr>\n",
              "      <th>key</th>\n",
              "      <td>50704.0</td>\n",
              "      <td>5.269111</td>\n",
              "      <td>3.597578</td>\n",
              "      <td>0.000000</td>\n",
              "      <td>2.000000e+00</td>\n",
              "      <td>5.000000</td>\n",
              "      <td>8.000000</td>\n",
              "      <td>11.000000</td>\n",
              "    </tr>\n",
              "    <tr>\n",
              "      <th>liveness</th>\n",
              "      <td>50704.0</td>\n",
              "      <td>0.205520</td>\n",
              "      <td>0.176486</td>\n",
              "      <td>0.000000</td>\n",
              "      <td>9.824870e-02</td>\n",
              "      <td>0.131403</td>\n",
              "      <td>0.262823</td>\n",
              "      <td>0.996257</td>\n",
              "    </tr>\n",
              "    <tr>\n",
              "      <th>loudness</th>\n",
              "      <td>50704.0</td>\n",
              "      <td>-7.519316</td>\n",
              "      <td>3.927858</td>\n",
              "      <td>-60.000000</td>\n",
              "      <td>-8.942000e+00</td>\n",
              "      <td>-6.688000</td>\n",
              "      <td>-5.043000</td>\n",
              "      <td>1.634000</td>\n",
              "    </tr>\n",
              "    <tr>\n",
              "      <th>mechanism</th>\n",
              "      <td>50704.0</td>\n",
              "      <td>0.547603</td>\n",
              "      <td>0.223803</td>\n",
              "      <td>0.000000</td>\n",
              "      <td>3.666523e-01</td>\n",
              "      <td>0.571023</td>\n",
              "      <td>0.729537</td>\n",
              "      <td>1.000000</td>\n",
              "    </tr>\n",
              "    <tr>\n",
              "      <th>organism</th>\n",
              "      <td>50704.0</td>\n",
              "      <td>0.391874</td>\n",
              "      <td>0.207116</td>\n",
              "      <td>0.000000</td>\n",
              "      <td>2.257422e-01</td>\n",
              "      <td>0.364057</td>\n",
              "      <td>0.533131</td>\n",
              "      <td>0.962350</td>\n",
              "    </tr>\n",
              "    <tr>\n",
              "      <th>speechiness</th>\n",
              "      <td>50704.0</td>\n",
              "      <td>0.122998</td>\n",
              "      <td>0.136022</td>\n",
              "      <td>0.000000</td>\n",
              "      <td>3.802783e-02</td>\n",
              "      <td>0.061794</td>\n",
              "      <td>0.160202</td>\n",
              "      <td>0.961408</td>\n",
              "    </tr>\n",
              "    <tr>\n",
              "      <th>tempo</th>\n",
              "      <td>50704.0</td>\n",
              "      <td>121.576396</td>\n",
              "      <td>29.786741</td>\n",
              "      <td>0.000000</td>\n",
              "      <td>9.715900e+01</td>\n",
              "      <td>120.115498</td>\n",
              "      <td>141.014008</td>\n",
              "      <td>218.774994</td>\n",
              "    </tr>\n",
              "    <tr>\n",
              "      <th>time_signature</th>\n",
              "      <td>50704.0</td>\n",
              "      <td>3.913163</td>\n",
              "      <td>0.410036</td>\n",
              "      <td>0.000000</td>\n",
              "      <td>4.000000e+00</td>\n",
              "      <td>4.000000</td>\n",
              "      <td>4.000000</td>\n",
              "      <td>5.000000</td>\n",
              "    </tr>\n",
              "    <tr>\n",
              "      <th>valence</th>\n",
              "      <td>50704.0</td>\n",
              "      <td>0.487804</td>\n",
              "      <td>0.246376</td>\n",
              "      <td>0.000000</td>\n",
              "      <td>2.925593e-01</td>\n",
              "      <td>0.478244</td>\n",
              "      <td>0.677947</td>\n",
              "      <td>0.999990</td>\n",
              "    </tr>\n",
              "    <tr>\n",
              "      <th>acoustic_vector_0</th>\n",
              "      <td>50704.0</td>\n",
              "      <td>-0.332295</td>\n",
              "      <td>0.416320</td>\n",
              "      <td>-1.122792</td>\n",
              "      <td>-7.451485e-01</td>\n",
              "      <td>-0.334799</td>\n",
              "      <td>0.045921</td>\n",
              "      <td>0.932165</td>\n",
              "    </tr>\n",
              "    <tr>\n",
              "      <th>acoustic_vector_1</th>\n",
              "      <td>50704.0</td>\n",
              "      <td>0.202193</td>\n",
              "      <td>0.254024</td>\n",
              "      <td>-1.084360</td>\n",
              "      <td>8.645984e-02</td>\n",
              "      <td>0.265535</td>\n",
              "      <td>0.359553</td>\n",
              "      <td>0.812837</td>\n",
              "    </tr>\n",
              "    <tr>\n",
              "      <th>acoustic_vector_2</th>\n",
              "      <td>50704.0</td>\n",
              "      <td>0.153935</td>\n",
              "      <td>0.212660</td>\n",
              "      <td>-0.752231</td>\n",
              "      <td>5.160441e-02</td>\n",
              "      <td>0.207705</td>\n",
              "      <td>0.296132</td>\n",
              "      <td>0.605288</td>\n",
              "    </tr>\n",
              "    <tr>\n",
              "      <th>acoustic_vector_3</th>\n",
              "      <td>50704.0</td>\n",
              "      <td>-0.040526</td>\n",
              "      <td>0.333129</td>\n",
              "      <td>-0.809136</td>\n",
              "      <td>-2.945739e-01</td>\n",
              "      <td>-0.001755</td>\n",
              "      <td>0.146828</td>\n",
              "      <td>1.074504</td>\n",
              "    </tr>\n",
              "    <tr>\n",
              "      <th>acoustic_vector_4</th>\n",
              "      <td>50704.0</td>\n",
              "      <td>-0.027247</td>\n",
              "      <td>0.377457</td>\n",
              "      <td>-1.029858</td>\n",
              "      <td>-3.187511e-01</td>\n",
              "      <td>-0.176974</td>\n",
              "      <td>0.280852</td>\n",
              "      <td>0.895769</td>\n",
              "    </tr>\n",
              "    <tr>\n",
              "      <th>acoustic_vector_5</th>\n",
              "      <td>50704.0</td>\n",
              "      <td>0.049475</td>\n",
              "      <td>0.144205</td>\n",
              "      <td>-0.942461</td>\n",
              "      <td>-3.833693e-02</td>\n",
              "      <td>0.062719</td>\n",
              "      <td>0.160366</td>\n",
              "      <td>0.380279</td>\n",
              "    </tr>\n",
              "    <tr>\n",
              "      <th>acoustic_vector_6</th>\n",
              "      <td>50704.0</td>\n",
              "      <td>-0.197758</td>\n",
              "      <td>0.349840</td>\n",
              "      <td>-0.736395</td>\n",
              "      <td>-4.448489e-01</td>\n",
              "      <td>-0.298599</td>\n",
              "      <td>-0.075158</td>\n",
              "      <td>0.966760</td>\n",
              "    </tr>\n",
              "    <tr>\n",
              "      <th>acoustic_vector_7</th>\n",
              "      <td>50704.0</td>\n",
              "      <td>0.005153</td>\n",
              "      <td>0.324259</td>\n",
              "      <td>-0.975647</td>\n",
              "      <td>-1.768211e-01</td>\n",
              "      <td>0.090423</td>\n",
              "      <td>0.194285</td>\n",
              "      <td>1.152213</td>\n",
              "    </tr>\n",
              "  </tbody>\n",
              "</table>\n",
              "</div>\n",
              "      <button class=\"colab-df-convert\" onclick=\"convertToInteractive('df-bc2967b1-5d1f-47fd-9cc6-36b6bf3eafb7')\"\n",
              "              title=\"Convert this dataframe to an interactive table.\"\n",
              "              style=\"display:none;\">\n",
              "        \n",
              "  <svg xmlns=\"http://www.w3.org/2000/svg\" height=\"24px\"viewBox=\"0 0 24 24\"\n",
              "       width=\"24px\">\n",
              "    <path d=\"M0 0h24v24H0V0z\" fill=\"none\"/>\n",
              "    <path d=\"M18.56 5.44l.94 2.06.94-2.06 2.06-.94-2.06-.94-.94-2.06-.94 2.06-2.06.94zm-11 1L8.5 8.5l.94-2.06 2.06-.94-2.06-.94L8.5 2.5l-.94 2.06-2.06.94zm10 10l.94 2.06.94-2.06 2.06-.94-2.06-.94-.94-2.06-.94 2.06-2.06.94z\"/><path d=\"M17.41 7.96l-1.37-1.37c-.4-.4-.92-.59-1.43-.59-.52 0-1.04.2-1.43.59L10.3 9.45l-7.72 7.72c-.78.78-.78 2.05 0 2.83L4 21.41c.39.39.9.59 1.41.59.51 0 1.02-.2 1.41-.59l7.78-7.78 2.81-2.81c.8-.78.8-2.07 0-2.86zM5.41 20L4 18.59l7.72-7.72 1.47 1.35L5.41 20z\"/>\n",
              "  </svg>\n",
              "      </button>\n",
              "      \n",
              "  <style>\n",
              "    .colab-df-container {\n",
              "      display:flex;\n",
              "      flex-wrap:wrap;\n",
              "      gap: 12px;\n",
              "    }\n",
              "\n",
              "    .colab-df-convert {\n",
              "      background-color: #E8F0FE;\n",
              "      border: none;\n",
              "      border-radius: 50%;\n",
              "      cursor: pointer;\n",
              "      display: none;\n",
              "      fill: #1967D2;\n",
              "      height: 32px;\n",
              "      padding: 0 0 0 0;\n",
              "      width: 32px;\n",
              "    }\n",
              "\n",
              "    .colab-df-convert:hover {\n",
              "      background-color: #E2EBFA;\n",
              "      box-shadow: 0px 1px 2px rgba(60, 64, 67, 0.3), 0px 1px 3px 1px rgba(60, 64, 67, 0.15);\n",
              "      fill: #174EA6;\n",
              "    }\n",
              "\n",
              "    [theme=dark] .colab-df-convert {\n",
              "      background-color: #3B4455;\n",
              "      fill: #D2E3FC;\n",
              "    }\n",
              "\n",
              "    [theme=dark] .colab-df-convert:hover {\n",
              "      background-color: #434B5C;\n",
              "      box-shadow: 0px 1px 3px 1px rgba(0, 0, 0, 0.15);\n",
              "      filter: drop-shadow(0px 1px 2px rgba(0, 0, 0, 0.3));\n",
              "      fill: #FFFFFF;\n",
              "    }\n",
              "  </style>\n",
              "\n",
              "      <script>\n",
              "        const buttonEl =\n",
              "          document.querySelector('#df-bc2967b1-5d1f-47fd-9cc6-36b6bf3eafb7 button.colab-df-convert');\n",
              "        buttonEl.style.display =\n",
              "          google.colab.kernel.accessAllowed ? 'block' : 'none';\n",
              "\n",
              "        async function convertToInteractive(key) {\n",
              "          const element = document.querySelector('#df-bc2967b1-5d1f-47fd-9cc6-36b6bf3eafb7');\n",
              "          const dataTable =\n",
              "            await google.colab.kernel.invokeFunction('convertToInteractive',\n",
              "                                                     [key], {});\n",
              "          if (!dataTable) return;\n",
              "\n",
              "          const docLinkHtml = 'Like what you see? Visit the ' +\n",
              "            '<a target=\"_blank\" href=https://colab.research.google.com/notebooks/data_table.ipynb>data table notebook</a>'\n",
              "            + ' to learn more about interactive tables.';\n",
              "          element.innerHTML = '';\n",
              "          dataTable['output_type'] = 'display_data';\n",
              "          await google.colab.output.renderOutput(dataTable, element);\n",
              "          const docLink = document.createElement('div');\n",
              "          docLink.innerHTML = docLinkHtml;\n",
              "          element.appendChild(docLink);\n",
              "        }\n",
              "      </script>\n",
              "    </div>\n",
              "  </div>\n",
              "  "
            ],
            "text/plain": [
              "                          count         mean  ...          75%          max\n",
              "duration                50704.0   222.267980  ...   250.426666  1787.760986\n",
              "release_year            50704.0  2010.324748  ...  2017.000000  2018.000000\n",
              "us_popularity_estimate  50704.0    99.455131  ...    99.961131    99.999997\n",
              "acousticness            50704.0     0.250336  ...     0.406142     0.995796\n",
              "beat_strength           50704.0     0.492075  ...     0.604994     0.990419\n",
              "bounciness              50704.0     0.514526  ...     0.655912     0.972590\n",
              "danceability            50704.0     0.611742  ...     0.736241     0.984952\n",
              "dyn_range_mean          50704.0     8.215950  ...     9.792092    32.342781\n",
              "energy                  50704.0     0.641440  ...     0.803185     0.999877\n",
              "flatness                50704.0     0.996548  ...     1.026137     1.103213\n",
              "instrumentalness        50704.0     0.070587  ...     0.000765     0.999399\n",
              "key                     50704.0     5.269111  ...     8.000000    11.000000\n",
              "liveness                50704.0     0.205520  ...     0.262823     0.996257\n",
              "loudness                50704.0    -7.519316  ...    -5.043000     1.634000\n",
              "mechanism               50704.0     0.547603  ...     0.729537     1.000000\n",
              "organism                50704.0     0.391874  ...     0.533131     0.962350\n",
              "speechiness             50704.0     0.122998  ...     0.160202     0.961408\n",
              "tempo                   50704.0   121.576396  ...   141.014008   218.774994\n",
              "time_signature          50704.0     3.913163  ...     4.000000     5.000000\n",
              "valence                 50704.0     0.487804  ...     0.677947     0.999990\n",
              "acoustic_vector_0       50704.0    -0.332295  ...     0.045921     0.932165\n",
              "acoustic_vector_1       50704.0     0.202193  ...     0.359553     0.812837\n",
              "acoustic_vector_2       50704.0     0.153935  ...     0.296132     0.605288\n",
              "acoustic_vector_3       50704.0    -0.040526  ...     0.146828     1.074504\n",
              "acoustic_vector_4       50704.0    -0.027247  ...     0.280852     0.895769\n",
              "acoustic_vector_5       50704.0     0.049475  ...     0.160366     0.380279\n",
              "acoustic_vector_6       50704.0    -0.197758  ...    -0.075158     0.966760\n",
              "acoustic_vector_7       50704.0     0.005153  ...     0.194285     1.152213\n",
              "\n",
              "[28 rows x 8 columns]"
            ]
          },
          "metadata": {},
          "execution_count": 5
        }
      ]
    },
    {
      "cell_type": "markdown",
      "source": [
        "Separating Acoustic Features from other Features"
      ],
      "metadata": {
        "id": "RDmiJNmbjusS"
      }
    },
    {
      "cell_type": "code",
      "source": [
        "all_features = features.T.to_numpy()\n",
        "acoustic_vectors = all_features\n",
        "acoustic_vectors[16] = np.array([1 if i == 'major' else 0 for i in all_features[16]])\n",
        "other_features = acoustic_vectors[1:-8]\n",
        "track_ids = acoustic_vectors[0]\n",
        "track_id_list = list(track_ids)\n",
        "acoustic_vectors = acoustic_vectors[-8:]"
      ],
      "metadata": {
        "id": "akKR7ANzjtzp"
      },
      "execution_count": 6,
      "outputs": []
    },
    {
      "cell_type": "markdown",
      "source": [
        "Loading Data"
      ],
      "metadata": {
        "id": "mrkE0Q2pis0X"
      }
    },
    {
      "cell_type": "code",
      "source": [
        "train_sess =  pd.read_csv(\"/content/drive/MyDrive/520final/data/training_set/train_try.csv\")\n",
        "test_sess =  pd.read_csv(\"/content/drive/MyDrive/520final/data/training_set/test_try.csv\")"
      ],
      "metadata": {
        "id": "JTFXcnHBigom"
      },
      "execution_count": 7,
      "outputs": []
    },
    {
      "cell_type": "markdown",
      "source": [
        "Extracting Session IDs"
      ],
      "metadata": {
        "id": "lJ3K7S4Ni0z8"
      }
    },
    {
      "cell_type": "code",
      "source": [
        "train_sess_ids = list(set(train_sess[\"session_id\"]))\n",
        "test_sess_ids = list(set(test_sess[\"session_id\"]))"
      ],
      "metadata": {
        "id": "hfIVOI_ziyVV"
      },
      "execution_count": 8,
      "outputs": []
    },
    {
      "cell_type": "markdown",
      "source": [
        "Session features at a glance"
      ],
      "metadata": {
        "id": "r0LX-Et4i-zO"
      }
    },
    {
      "cell_type": "code",
      "source": [
        "train_sess.head()"
      ],
      "metadata": {
        "colab": {
          "base_uri": "https://localhost:8080/",
          "height": 540
        },
        "id": "rzI3fPwWi3D8",
        "outputId": "3a1dca86-1015-41f9-e487-bb466ea8c1d7"
      },
      "execution_count": 9,
      "outputs": [
        {
          "output_type": "execute_result",
          "data": {
            "text/html": [
              "\n",
              "  <div id=\"df-4478454d-ed8c-46be-9633-cde15a381471\">\n",
              "    <div class=\"colab-df-container\">\n",
              "      <div>\n",
              "<style scoped>\n",
              "    .dataframe tbody tr th:only-of-type {\n",
              "        vertical-align: middle;\n",
              "    }\n",
              "\n",
              "    .dataframe tbody tr th {\n",
              "        vertical-align: top;\n",
              "    }\n",
              "\n",
              "    .dataframe thead th {\n",
              "        text-align: right;\n",
              "    }\n",
              "</style>\n",
              "<table border=\"1\" class=\"dataframe\">\n",
              "  <thead>\n",
              "    <tr style=\"text-align: right;\">\n",
              "      <th></th>\n",
              "      <th>Unnamed: 0</th>\n",
              "      <th>session_id</th>\n",
              "      <th>session_position</th>\n",
              "      <th>session_length</th>\n",
              "      <th>track_id_clean</th>\n",
              "      <th>skip_1</th>\n",
              "      <th>skip_2</th>\n",
              "      <th>skip_3</th>\n",
              "      <th>not_skipped</th>\n",
              "      <th>context_switch</th>\n",
              "      <th>no_pause_before_play</th>\n",
              "      <th>short_pause_before_play</th>\n",
              "      <th>long_pause_before_play</th>\n",
              "      <th>hist_user_behavior_n_seekfwd</th>\n",
              "      <th>hist_user_behavior_n_seekback</th>\n",
              "      <th>hist_user_behavior_is_shuffle</th>\n",
              "      <th>hour_of_day</th>\n",
              "      <th>date</th>\n",
              "      <th>premium</th>\n",
              "      <th>context_type</th>\n",
              "      <th>hist_user_behavior_reason_start</th>\n",
              "      <th>hist_user_behavior_reason_end</th>\n",
              "    </tr>\n",
              "  </thead>\n",
              "  <tbody>\n",
              "    <tr>\n",
              "      <th>0</th>\n",
              "      <td>0</td>\n",
              "      <td>0_00006f66-33e5-4de7-a324-2d18e439fc1e</td>\n",
              "      <td>1</td>\n",
              "      <td>20</td>\n",
              "      <td>t_0479f24c-27d2-46d6-a00c-7ec928f2b539</td>\n",
              "      <td>False</td>\n",
              "      <td>False</td>\n",
              "      <td>False</td>\n",
              "      <td>True</td>\n",
              "      <td>0</td>\n",
              "      <td>0</td>\n",
              "      <td>0</td>\n",
              "      <td>0</td>\n",
              "      <td>0</td>\n",
              "      <td>0</td>\n",
              "      <td>True</td>\n",
              "      <td>16</td>\n",
              "      <td>2018-07-15</td>\n",
              "      <td>True</td>\n",
              "      <td>editorial_playlist</td>\n",
              "      <td>trackdone</td>\n",
              "      <td>trackdone</td>\n",
              "    </tr>\n",
              "    <tr>\n",
              "      <th>1</th>\n",
              "      <td>1</td>\n",
              "      <td>0_00006f66-33e5-4de7-a324-2d18e439fc1e</td>\n",
              "      <td>2</td>\n",
              "      <td>20</td>\n",
              "      <td>t_9099cd7b-c238-47b7-9381-f23f2c1d1043</td>\n",
              "      <td>False</td>\n",
              "      <td>False</td>\n",
              "      <td>False</td>\n",
              "      <td>True</td>\n",
              "      <td>0</td>\n",
              "      <td>1</td>\n",
              "      <td>0</td>\n",
              "      <td>0</td>\n",
              "      <td>0</td>\n",
              "      <td>0</td>\n",
              "      <td>True</td>\n",
              "      <td>16</td>\n",
              "      <td>2018-07-15</td>\n",
              "      <td>True</td>\n",
              "      <td>editorial_playlist</td>\n",
              "      <td>trackdone</td>\n",
              "      <td>trackdone</td>\n",
              "    </tr>\n",
              "    <tr>\n",
              "      <th>2</th>\n",
              "      <td>2</td>\n",
              "      <td>0_00006f66-33e5-4de7-a324-2d18e439fc1e</td>\n",
              "      <td>3</td>\n",
              "      <td>20</td>\n",
              "      <td>t_fc5df5ba-5396-49a7-8b29-35d0d28249e0</td>\n",
              "      <td>False</td>\n",
              "      <td>False</td>\n",
              "      <td>False</td>\n",
              "      <td>True</td>\n",
              "      <td>0</td>\n",
              "      <td>1</td>\n",
              "      <td>0</td>\n",
              "      <td>0</td>\n",
              "      <td>0</td>\n",
              "      <td>0</td>\n",
              "      <td>True</td>\n",
              "      <td>16</td>\n",
              "      <td>2018-07-15</td>\n",
              "      <td>True</td>\n",
              "      <td>editorial_playlist</td>\n",
              "      <td>trackdone</td>\n",
              "      <td>trackdone</td>\n",
              "    </tr>\n",
              "    <tr>\n",
              "      <th>3</th>\n",
              "      <td>3</td>\n",
              "      <td>0_00006f66-33e5-4de7-a324-2d18e439fc1e</td>\n",
              "      <td>4</td>\n",
              "      <td>20</td>\n",
              "      <td>t_23cff8d6-d874-4b20-83dc-94e450e8aa20</td>\n",
              "      <td>False</td>\n",
              "      <td>False</td>\n",
              "      <td>False</td>\n",
              "      <td>True</td>\n",
              "      <td>0</td>\n",
              "      <td>1</td>\n",
              "      <td>0</td>\n",
              "      <td>0</td>\n",
              "      <td>0</td>\n",
              "      <td>0</td>\n",
              "      <td>True</td>\n",
              "      <td>16</td>\n",
              "      <td>2018-07-15</td>\n",
              "      <td>True</td>\n",
              "      <td>editorial_playlist</td>\n",
              "      <td>trackdone</td>\n",
              "      <td>trackdone</td>\n",
              "    </tr>\n",
              "    <tr>\n",
              "      <th>4</th>\n",
              "      <td>4</td>\n",
              "      <td>0_00006f66-33e5-4de7-a324-2d18e439fc1e</td>\n",
              "      <td>5</td>\n",
              "      <td>20</td>\n",
              "      <td>t_64f3743c-f624-46bb-a579-0f3f9a07a123</td>\n",
              "      <td>False</td>\n",
              "      <td>False</td>\n",
              "      <td>False</td>\n",
              "      <td>True</td>\n",
              "      <td>0</td>\n",
              "      <td>1</td>\n",
              "      <td>0</td>\n",
              "      <td>0</td>\n",
              "      <td>0</td>\n",
              "      <td>0</td>\n",
              "      <td>True</td>\n",
              "      <td>16</td>\n",
              "      <td>2018-07-15</td>\n",
              "      <td>True</td>\n",
              "      <td>editorial_playlist</td>\n",
              "      <td>trackdone</td>\n",
              "      <td>trackdone</td>\n",
              "    </tr>\n",
              "  </tbody>\n",
              "</table>\n",
              "</div>\n",
              "      <button class=\"colab-df-convert\" onclick=\"convertToInteractive('df-4478454d-ed8c-46be-9633-cde15a381471')\"\n",
              "              title=\"Convert this dataframe to an interactive table.\"\n",
              "              style=\"display:none;\">\n",
              "        \n",
              "  <svg xmlns=\"http://www.w3.org/2000/svg\" height=\"24px\"viewBox=\"0 0 24 24\"\n",
              "       width=\"24px\">\n",
              "    <path d=\"M0 0h24v24H0V0z\" fill=\"none\"/>\n",
              "    <path d=\"M18.56 5.44l.94 2.06.94-2.06 2.06-.94-2.06-.94-.94-2.06-.94 2.06-2.06.94zm-11 1L8.5 8.5l.94-2.06 2.06-.94-2.06-.94L8.5 2.5l-.94 2.06-2.06.94zm10 10l.94 2.06.94-2.06 2.06-.94-2.06-.94-.94-2.06-.94 2.06-2.06.94z\"/><path d=\"M17.41 7.96l-1.37-1.37c-.4-.4-.92-.59-1.43-.59-.52 0-1.04.2-1.43.59L10.3 9.45l-7.72 7.72c-.78.78-.78 2.05 0 2.83L4 21.41c.39.39.9.59 1.41.59.51 0 1.02-.2 1.41-.59l7.78-7.78 2.81-2.81c.8-.78.8-2.07 0-2.86zM5.41 20L4 18.59l7.72-7.72 1.47 1.35L5.41 20z\"/>\n",
              "  </svg>\n",
              "      </button>\n",
              "      \n",
              "  <style>\n",
              "    .colab-df-container {\n",
              "      display:flex;\n",
              "      flex-wrap:wrap;\n",
              "      gap: 12px;\n",
              "    }\n",
              "\n",
              "    .colab-df-convert {\n",
              "      background-color: #E8F0FE;\n",
              "      border: none;\n",
              "      border-radius: 50%;\n",
              "      cursor: pointer;\n",
              "      display: none;\n",
              "      fill: #1967D2;\n",
              "      height: 32px;\n",
              "      padding: 0 0 0 0;\n",
              "      width: 32px;\n",
              "    }\n",
              "\n",
              "    .colab-df-convert:hover {\n",
              "      background-color: #E2EBFA;\n",
              "      box-shadow: 0px 1px 2px rgba(60, 64, 67, 0.3), 0px 1px 3px 1px rgba(60, 64, 67, 0.15);\n",
              "      fill: #174EA6;\n",
              "    }\n",
              "\n",
              "    [theme=dark] .colab-df-convert {\n",
              "      background-color: #3B4455;\n",
              "      fill: #D2E3FC;\n",
              "    }\n",
              "\n",
              "    [theme=dark] .colab-df-convert:hover {\n",
              "      background-color: #434B5C;\n",
              "      box-shadow: 0px 1px 3px 1px rgba(0, 0, 0, 0.15);\n",
              "      filter: drop-shadow(0px 1px 2px rgba(0, 0, 0, 0.3));\n",
              "      fill: #FFFFFF;\n",
              "    }\n",
              "  </style>\n",
              "\n",
              "      <script>\n",
              "        const buttonEl =\n",
              "          document.querySelector('#df-4478454d-ed8c-46be-9633-cde15a381471 button.colab-df-convert');\n",
              "        buttonEl.style.display =\n",
              "          google.colab.kernel.accessAllowed ? 'block' : 'none';\n",
              "\n",
              "        async function convertToInteractive(key) {\n",
              "          const element = document.querySelector('#df-4478454d-ed8c-46be-9633-cde15a381471');\n",
              "          const dataTable =\n",
              "            await google.colab.kernel.invokeFunction('convertToInteractive',\n",
              "                                                     [key], {});\n",
              "          if (!dataTable) return;\n",
              "\n",
              "          const docLinkHtml = 'Like what you see? Visit the ' +\n",
              "            '<a target=\"_blank\" href=https://colab.research.google.com/notebooks/data_table.ipynb>data table notebook</a>'\n",
              "            + ' to learn more about interactive tables.';\n",
              "          element.innerHTML = '';\n",
              "          dataTable['output_type'] = 'display_data';\n",
              "          await google.colab.output.renderOutput(dataTable, element);\n",
              "          const docLink = document.createElement('div');\n",
              "          docLink.innerHTML = docLinkHtml;\n",
              "          element.appendChild(docLink);\n",
              "        }\n",
              "      </script>\n",
              "    </div>\n",
              "  </div>\n",
              "  "
            ],
            "text/plain": [
              "   Unnamed: 0  ... hist_user_behavior_reason_end\n",
              "0           0  ...                     trackdone\n",
              "1           1  ...                     trackdone\n",
              "2           2  ...                     trackdone\n",
              "3           3  ...                     trackdone\n",
              "4           4  ...                     trackdone\n",
              "\n",
              "[5 rows x 22 columns]"
            ]
          },
          "metadata": {},
          "execution_count": 9
        }
      ]
    },
    {
      "cell_type": "code",
      "source": [
        "test_sess.head()"
      ],
      "metadata": {
        "colab": {
          "base_uri": "https://localhost:8080/",
          "height": 540
        },
        "id": "cEFso-xZjCyH",
        "outputId": "485ecea5-45c8-4b73-b0c3-b00f0b90d121"
      },
      "execution_count": 10,
      "outputs": [
        {
          "output_type": "execute_result",
          "data": {
            "text/html": [
              "\n",
              "  <div id=\"df-d44e8b38-a852-4db6-a454-0c1376491223\">\n",
              "    <div class=\"colab-df-container\">\n",
              "      <div>\n",
              "<style scoped>\n",
              "    .dataframe tbody tr th:only-of-type {\n",
              "        vertical-align: middle;\n",
              "    }\n",
              "\n",
              "    .dataframe tbody tr th {\n",
              "        vertical-align: top;\n",
              "    }\n",
              "\n",
              "    .dataframe thead th {\n",
              "        text-align: right;\n",
              "    }\n",
              "</style>\n",
              "<table border=\"1\" class=\"dataframe\">\n",
              "  <thead>\n",
              "    <tr style=\"text-align: right;\">\n",
              "      <th></th>\n",
              "      <th>Unnamed: 0</th>\n",
              "      <th>session_id</th>\n",
              "      <th>session_position</th>\n",
              "      <th>session_length</th>\n",
              "      <th>track_id_clean</th>\n",
              "      <th>skip_1</th>\n",
              "      <th>skip_2</th>\n",
              "      <th>skip_3</th>\n",
              "      <th>not_skipped</th>\n",
              "      <th>context_switch</th>\n",
              "      <th>no_pause_before_play</th>\n",
              "      <th>short_pause_before_play</th>\n",
              "      <th>long_pause_before_play</th>\n",
              "      <th>hist_user_behavior_n_seekfwd</th>\n",
              "      <th>hist_user_behavior_n_seekback</th>\n",
              "      <th>hist_user_behavior_is_shuffle</th>\n",
              "      <th>hour_of_day</th>\n",
              "      <th>date</th>\n",
              "      <th>premium</th>\n",
              "      <th>context_type</th>\n",
              "      <th>hist_user_behavior_reason_start</th>\n",
              "      <th>hist_user_behavior_reason_end</th>\n",
              "    </tr>\n",
              "  </thead>\n",
              "  <tbody>\n",
              "    <tr>\n",
              "      <th>0</th>\n",
              "      <td>134303</td>\n",
              "      <td>0_0bca4bfb-5d25-4acf-8326-22ad4be7ddf0</td>\n",
              "      <td>1</td>\n",
              "      <td>20</td>\n",
              "      <td>t_a1cbcf29-5ff6-4a19-8d39-69dffe1f0878</td>\n",
              "      <td>False</td>\n",
              "      <td>False</td>\n",
              "      <td>False</td>\n",
              "      <td>True</td>\n",
              "      <td>0</td>\n",
              "      <td>0</td>\n",
              "      <td>0</td>\n",
              "      <td>0</td>\n",
              "      <td>0</td>\n",
              "      <td>0</td>\n",
              "      <td>False</td>\n",
              "      <td>15</td>\n",
              "      <td>2018-07-15</td>\n",
              "      <td>True</td>\n",
              "      <td>user_collection</td>\n",
              "      <td>clickrow</td>\n",
              "      <td>trackdone</td>\n",
              "    </tr>\n",
              "    <tr>\n",
              "      <th>1</th>\n",
              "      <td>134304</td>\n",
              "      <td>0_0bca4bfb-5d25-4acf-8326-22ad4be7ddf0</td>\n",
              "      <td>2</td>\n",
              "      <td>20</td>\n",
              "      <td>t_938c59d9-c6f8-475d-bb73-451446a19d8a</td>\n",
              "      <td>True</td>\n",
              "      <td>True</td>\n",
              "      <td>True</td>\n",
              "      <td>False</td>\n",
              "      <td>0</td>\n",
              "      <td>1</td>\n",
              "      <td>0</td>\n",
              "      <td>0</td>\n",
              "      <td>0</td>\n",
              "      <td>0</td>\n",
              "      <td>False</td>\n",
              "      <td>15</td>\n",
              "      <td>2018-07-15</td>\n",
              "      <td>True</td>\n",
              "      <td>user_collection</td>\n",
              "      <td>trackdone</td>\n",
              "      <td>fwdbtn</td>\n",
              "    </tr>\n",
              "    <tr>\n",
              "      <th>2</th>\n",
              "      <td>134305</td>\n",
              "      <td>0_0bca4bfb-5d25-4acf-8326-22ad4be7ddf0</td>\n",
              "      <td>3</td>\n",
              "      <td>20</td>\n",
              "      <td>t_04126a92-dfd5-4f9c-a426-78e1d906f2e5</td>\n",
              "      <td>True</td>\n",
              "      <td>True</td>\n",
              "      <td>True</td>\n",
              "      <td>False</td>\n",
              "      <td>0</td>\n",
              "      <td>1</td>\n",
              "      <td>0</td>\n",
              "      <td>0</td>\n",
              "      <td>0</td>\n",
              "      <td>0</td>\n",
              "      <td>False</td>\n",
              "      <td>15</td>\n",
              "      <td>2018-07-15</td>\n",
              "      <td>True</td>\n",
              "      <td>user_collection</td>\n",
              "      <td>fwdbtn</td>\n",
              "      <td>fwdbtn</td>\n",
              "    </tr>\n",
              "    <tr>\n",
              "      <th>3</th>\n",
              "      <td>134306</td>\n",
              "      <td>0_0bca4bfb-5d25-4acf-8326-22ad4be7ddf0</td>\n",
              "      <td>4</td>\n",
              "      <td>20</td>\n",
              "      <td>t_0b7562b7-e137-459f-96c7-7b088e4bd6d6</td>\n",
              "      <td>False</td>\n",
              "      <td>True</td>\n",
              "      <td>True</td>\n",
              "      <td>False</td>\n",
              "      <td>0</td>\n",
              "      <td>1</td>\n",
              "      <td>0</td>\n",
              "      <td>0</td>\n",
              "      <td>0</td>\n",
              "      <td>0</td>\n",
              "      <td>False</td>\n",
              "      <td>15</td>\n",
              "      <td>2018-07-15</td>\n",
              "      <td>True</td>\n",
              "      <td>user_collection</td>\n",
              "      <td>fwdbtn</td>\n",
              "      <td>endplay</td>\n",
              "    </tr>\n",
              "    <tr>\n",
              "      <th>4</th>\n",
              "      <td>134307</td>\n",
              "      <td>0_0bca4bfb-5d25-4acf-8326-22ad4be7ddf0</td>\n",
              "      <td>5</td>\n",
              "      <td>20</td>\n",
              "      <td>t_d65c8994-4d0c-4067-8d09-c180dd7330be</td>\n",
              "      <td>False</td>\n",
              "      <td>False</td>\n",
              "      <td>True</td>\n",
              "      <td>False</td>\n",
              "      <td>1</td>\n",
              "      <td>1</td>\n",
              "      <td>0</td>\n",
              "      <td>0</td>\n",
              "      <td>0</td>\n",
              "      <td>0</td>\n",
              "      <td>False</td>\n",
              "      <td>15</td>\n",
              "      <td>2018-07-15</td>\n",
              "      <td>True</td>\n",
              "      <td>user_collection</td>\n",
              "      <td>clickrow</td>\n",
              "      <td>endplay</td>\n",
              "    </tr>\n",
              "  </tbody>\n",
              "</table>\n",
              "</div>\n",
              "      <button class=\"colab-df-convert\" onclick=\"convertToInteractive('df-d44e8b38-a852-4db6-a454-0c1376491223')\"\n",
              "              title=\"Convert this dataframe to an interactive table.\"\n",
              "              style=\"display:none;\">\n",
              "        \n",
              "  <svg xmlns=\"http://www.w3.org/2000/svg\" height=\"24px\"viewBox=\"0 0 24 24\"\n",
              "       width=\"24px\">\n",
              "    <path d=\"M0 0h24v24H0V0z\" fill=\"none\"/>\n",
              "    <path d=\"M18.56 5.44l.94 2.06.94-2.06 2.06-.94-2.06-.94-.94-2.06-.94 2.06-2.06.94zm-11 1L8.5 8.5l.94-2.06 2.06-.94-2.06-.94L8.5 2.5l-.94 2.06-2.06.94zm10 10l.94 2.06.94-2.06 2.06-.94-2.06-.94-.94-2.06-.94 2.06-2.06.94z\"/><path d=\"M17.41 7.96l-1.37-1.37c-.4-.4-.92-.59-1.43-.59-.52 0-1.04.2-1.43.59L10.3 9.45l-7.72 7.72c-.78.78-.78 2.05 0 2.83L4 21.41c.39.39.9.59 1.41.59.51 0 1.02-.2 1.41-.59l7.78-7.78 2.81-2.81c.8-.78.8-2.07 0-2.86zM5.41 20L4 18.59l7.72-7.72 1.47 1.35L5.41 20z\"/>\n",
              "  </svg>\n",
              "      </button>\n",
              "      \n",
              "  <style>\n",
              "    .colab-df-container {\n",
              "      display:flex;\n",
              "      flex-wrap:wrap;\n",
              "      gap: 12px;\n",
              "    }\n",
              "\n",
              "    .colab-df-convert {\n",
              "      background-color: #E8F0FE;\n",
              "      border: none;\n",
              "      border-radius: 50%;\n",
              "      cursor: pointer;\n",
              "      display: none;\n",
              "      fill: #1967D2;\n",
              "      height: 32px;\n",
              "      padding: 0 0 0 0;\n",
              "      width: 32px;\n",
              "    }\n",
              "\n",
              "    .colab-df-convert:hover {\n",
              "      background-color: #E2EBFA;\n",
              "      box-shadow: 0px 1px 2px rgba(60, 64, 67, 0.3), 0px 1px 3px 1px rgba(60, 64, 67, 0.15);\n",
              "      fill: #174EA6;\n",
              "    }\n",
              "\n",
              "    [theme=dark] .colab-df-convert {\n",
              "      background-color: #3B4455;\n",
              "      fill: #D2E3FC;\n",
              "    }\n",
              "\n",
              "    [theme=dark] .colab-df-convert:hover {\n",
              "      background-color: #434B5C;\n",
              "      box-shadow: 0px 1px 3px 1px rgba(0, 0, 0, 0.15);\n",
              "      filter: drop-shadow(0px 1px 2px rgba(0, 0, 0, 0.3));\n",
              "      fill: #FFFFFF;\n",
              "    }\n",
              "  </style>\n",
              "\n",
              "      <script>\n",
              "        const buttonEl =\n",
              "          document.querySelector('#df-d44e8b38-a852-4db6-a454-0c1376491223 button.colab-df-convert');\n",
              "        buttonEl.style.display =\n",
              "          google.colab.kernel.accessAllowed ? 'block' : 'none';\n",
              "\n",
              "        async function convertToInteractive(key) {\n",
              "          const element = document.querySelector('#df-d44e8b38-a852-4db6-a454-0c1376491223');\n",
              "          const dataTable =\n",
              "            await google.colab.kernel.invokeFunction('convertToInteractive',\n",
              "                                                     [key], {});\n",
              "          if (!dataTable) return;\n",
              "\n",
              "          const docLinkHtml = 'Like what you see? Visit the ' +\n",
              "            '<a target=\"_blank\" href=https://colab.research.google.com/notebooks/data_table.ipynb>data table notebook</a>'\n",
              "            + ' to learn more about interactive tables.';\n",
              "          element.innerHTML = '';\n",
              "          dataTable['output_type'] = 'display_data';\n",
              "          await google.colab.output.renderOutput(dataTable, element);\n",
              "          const docLink = document.createElement('div');\n",
              "          docLink.innerHTML = docLinkHtml;\n",
              "          element.appendChild(docLink);\n",
              "        }\n",
              "      </script>\n",
              "    </div>\n",
              "  </div>\n",
              "  "
            ],
            "text/plain": [
              "   Unnamed: 0  ... hist_user_behavior_reason_end\n",
              "0      134303  ...                     trackdone\n",
              "1      134304  ...                        fwdbtn\n",
              "2      134305  ...                        fwdbtn\n",
              "3      134306  ...                       endplay\n",
              "4      134307  ...                       endplay\n",
              "\n",
              "[5 rows x 22 columns]"
            ]
          },
          "metadata": {},
          "execution_count": 10
        }
      ]
    },
    {
      "cell_type": "markdown",
      "source": [
        "Data Preprocessing"
      ],
      "metadata": {
        "id": "cGwwIgVfki55"
      }
    },
    {
      "cell_type": "markdown",
      "source": [
        "PCA with components = 8 Other Features"
      ],
      "metadata": {
        "id": "SNE6uzbbnOlZ"
      }
    },
    {
      "cell_type": "code",
      "source": [
        "cov_mat = PCA(n_components = 21)\n",
        "cov_mat.fit(other_features.T)\n",
        "\n",
        "# Cumulative Sum of Variance explained with [n] features\n",
        "variance = np.cumsum(np.round(cov_mat.explained_variance_ratio_, decimals = 3)*100)"
      ],
      "metadata": {
        "id": "aeBJHToXjgyg"
      },
      "execution_count": 11,
      "outputs": []
    },
    {
      "cell_type": "code",
      "source": [
        "print(variance)"
      ],
      "metadata": {
        "colab": {
          "base_uri": "https://localhost:8080/"
        },
        "id": "wf2sQ-b6lE5o",
        "outputId": "4e01aeb0-702f-4e59-8645-78ef2685539e"
      },
      "execution_count": 12,
      "outputs": [
        {
          "output_type": "stream",
          "name": "stdout",
          "text": [
            "[ 83.2  97.4  99.5  99.7  99.9 100.  100.  100.  100.  100.  100.  100.\n",
            " 100.  100.  100.  100.  100.  100.  100.  100.  100. ]\n"
          ]
        }
      ]
    },
    {
      "cell_type": "markdown",
      "source": [
        "Plot of Variance Explained (%) and Number of Features (#)"
      ],
      "metadata": {
        "id": "RRv3H59TlItx"
      }
    },
    {
      "cell_type": "code",
      "source": [
        "plt.ylabel('% Variance Explained')\n",
        "plt.xlabel('# of Features')\n",
        "plt.title('PCA Analysis')\n",
        "plt.ylim(30,100.5)\n",
        "plt.style.context('seaborn-whitegrid')\n",
        "\n",
        "\n",
        "plt.plot(variance)"
      ],
      "metadata": {
        "colab": {
          "base_uri": "https://localhost:8080/",
          "height": 312
        },
        "id": "bkw_r3UVlGjH",
        "outputId": "c291d5f2-b6b9-44ca-8b14-e71987a4530a"
      },
      "execution_count": 13,
      "outputs": [
        {
          "output_type": "execute_result",
          "data": {
            "text/plain": [
              "[<matplotlib.lines.Line2D at 0x7fc1afb57190>]"
            ]
          },
          "metadata": {},
          "execution_count": 13
        },
        {
          "output_type": "display_data",
          "data": {
            "image/png": "[encoded data removed]",
            "text/plain": [
              "<Figure size 432x288 with 1 Axes>"
            ]
          },
          "metadata": {
            "needs_background": "light"
          }
        }
      ]
    },
    {
      "cell_type": "markdown",
      "source": [
        "PCA with components = 8 Acoustic Features"
      ],
      "metadata": {
        "id": "n21jMYAYlfs_"
      }
    },
    {
      "cell_type": "code",
      "source": [
        "cov_mat = PCA(n_components = 8)\n",
        "cov_mat.fit(acoustic_vectors.T)\n",
        "\n",
        "# Cumulative Sum of Variance explained with [n] features\n",
        "variance = np.cumsum(np.round(cov_mat.explained_variance_ratio_, decimals=3)*100)"
      ],
      "metadata": {
        "id": "WBVEnjw-lR73"
      },
      "execution_count": 14,
      "outputs": []
    },
    {
      "cell_type": "code",
      "source": [
        "print(variance)"
      ],
      "metadata": {
        "colab": {
          "base_uri": "https://localhost:8080/"
        },
        "id": "m7VW_Dxjlv4N",
        "outputId": "c067bb60-cd88-4b65-e67c-5c4680d06d36"
      },
      "execution_count": 15,
      "outputs": [
        {
          "output_type": "stream",
          "name": "stdout",
          "text": [
            "[ 40.7  67.5  80.6  90.9  97.9  99.6  99.9 100. ]\n"
          ]
        }
      ]
    },
    {
      "cell_type": "code",
      "source": [
        "plt.ylabel('% Variance Explained')\n",
        "plt.xlabel('# of Features')\n",
        "plt.title('PCA Analysis')\n",
        "plt.ylim(30,100.5)\n",
        "plt.style.context('seaborn-whitegrid')\n",
        "\n",
        "\n",
        "plt.plot(variance)"
      ],
      "metadata": {
        "colab": {
          "base_uri": "https://localhost:8080/",
          "height": 312
        },
        "id": "GhkwZStwl1Uw",
        "outputId": "11b9871e-f545-4021-8224-2f1926736ae6"
      },
      "execution_count": 16,
      "outputs": [
        {
          "output_type": "execute_result",
          "data": {
            "text/plain": [
              "[<matplotlib.lines.Line2D at 0x7fc1af80c910>]"
            ]
          },
          "metadata": {},
          "execution_count": 16
        },
        {
          "output_type": "display_data",
          "data": {
            "image/png": "[encoded data removed]",
            "text/plain": [
              "<Figure size 432x288 with 1 Axes>"
            ]
          },
          "metadata": {
            "needs_background": "light"
          }
        }
      ]
    },
    {
      "cell_type": "markdown",
      "source": [
        "PCA with components = 5 Other Features"
      ],
      "metadata": {
        "id": "cMkRqwTtmPDH"
      }
    },
    {
      "cell_type": "code",
      "source": [
        "pca = PCA(n_components=5)\n",
        "other_feats_reduced = pca.fit_transform(other_features.T)\n",
        "track_vector = np.concatenate((other_feats_reduced.T,acoustic_vectors)).T\n",
        "print(track_vector.shape)"
      ],
      "metadata": {
        "id": "QoB4evGVl5t7",
        "colab": {
          "base_uri": "https://localhost:8080/"
        },
        "outputId": "cb6fe51d-3643-4092-a9aa-bba32d985fbc"
      },
      "execution_count": 17,
      "outputs": [
        {
          "output_type": "stream",
          "name": "stdout",
          "text": [
            "(50704, 13)\n"
          ]
        }
      ]
    },
    {
      "cell_type": "markdown",
      "source": [
        "Restructuring Train and Test Data"
      ],
      "metadata": {
        "id": "OX_8rGuOnbse"
      }
    },
    {
      "cell_type": "code",
      "source": [
        "train_len = len(train_sess_ids)\n",
        "train_data_x = []\n",
        "train_data_y = []\n",
        "train_session_ids = []\n",
        "total_count = 0\n",
        "for i in range(train_len):\n",
        "    temp_x = []\n",
        "    temp_y = []\n",
        "    sess_len = int(train_sess[\"session_length\"][total_count])\n",
        "    train_session_ids.append(train_sess[\"session_id\"][total_count])\n",
        "    for j in range(sess_len):\n",
        "        temp_x.append(str(train_sess[\"track_id_clean\"][j+total_count]))\n",
        "        temp_y.append(int(train_sess[\"skip_2\"][j+total_count]))\n",
        "    train_data_x.append(temp_x)\n",
        "    train_data_y.append(temp_y)\n",
        "    total_count += sess_len"
      ],
      "metadata": {
        "id": "5zT81M7unldU"
      },
      "execution_count": 18,
      "outputs": []
    },
    {
      "cell_type": "code",
      "source": [
        ""
      ],
      "metadata": {
        "id": "a4mheUgpnv14"
      },
      "execution_count": 18,
      "outputs": []
    },
    {
      "cell_type": "code",
      "source": [
        "len(track_id_list)"
      ],
      "metadata": {
        "colab": {
          "base_uri": "https://localhost:8080/"
        },
        "id": "tucuSG-aka_3",
        "outputId": "ec6a6039-74c7-421d-9d7d-af125e2283c4"
      },
      "execution_count": 19,
      "outputs": [
        {
          "output_type": "execute_result",
          "data": {
            "text/plain": [
              "50704"
            ]
          },
          "metadata": {},
          "execution_count": 19
        }
      ]
    },
    {
      "cell_type": "code",
      "source": [
        "tr_x = []\n",
        "tr_y = []\n",
        "for i in range(len(train_data_x)):\n",
        "    tr_skip_feats = np.zeros(13)\n",
        "    tr_non_skip_feats = np.zeros(13)\n",
        "    s_len = len(train_data_x[i])\n",
        "    c_s = 0\n",
        "    c_ns = 0\n",
        "    for j in range(int(s_len/2)):\n",
        "        if(train_data_y[i][j] == 0):\n",
        "            tr_non_skip_feats = tr_non_skip_feats + track_vector[track_id_list.index(train_data_x[i][j])]\n",
        "            c_ns += 1\n",
        "        else:\n",
        "            tr_skip_feats = tr_skip_feats + track_vector[track_id_list.index(train_data_x[i][j])]\n",
        "            c_s += 1\n",
        "    if(c_ns != 0):\n",
        "        tr_non_skip_feats = tr_non_skip_feats/c_ns\n",
        "    if(c_s != 0):\n",
        "        tr_skip_feats = tr_skip_feats/c_s\n",
        "    for j in range(int(s_len/2),s_len):\n",
        "        tr_y.append(train_data_y[i][j])\n",
        "        tr_x.append(np.concatenate((tr_skip_feats,tr_non_skip_feats,track_vector[track_id_list.index(train_data_x[i][j])])))\n",
        "\n",
        "print(len(tr_x))\n",
        "print(tr_x[0].shape)\n",
        "print(len(tr_y))"
      ],
      "metadata": {
        "id": "AscMlFA_nCyG",
        "colab": {
          "base_uri": "https://localhost:8080/"
        },
        "outputId": "54b34b85-9d2c-4a86-8c6f-7fac5d907752"
      },
      "execution_count": 20,
      "outputs": [
        {
          "output_type": "stream",
          "name": "stdout",
          "text": [
            "68090\n",
            "(39,)\n",
            "68090\n"
          ]
        }
      ]
    },
    {
      "cell_type": "code",
      "source": [
        "def make_average_feats(arr):\n",
        "    arr = np.array(arr)\n",
        "    n,m = arr.shape\n",
        "    sum_list = np.zeros(m)\n",
        "    for i in range(n):\n",
        "        sum_list = sum_list + arr[i]\n",
        "    return list(sum_list/n)"
      ],
      "metadata": {
        "id": "JwdetS3g7pQS"
      },
      "execution_count": 40,
      "outputs": []
    },
    {
      "cell_type": "code",
      "source": [
        "def form_final_feat_vector(feats,feats_length):\n",
        "    if(len(feats)==0):\n",
        "        return list(np.zeros(feats_length))\n",
        "    return make_average_feats(feats)"
      ],
      "metadata": {
        "id": "IOFH8r-m8BJN"
      },
      "execution_count": 41,
      "outputs": []
    },
    {
      "cell_type": "code",
      "source": [
        "track_ids = list(track_ids)\n",
        "def preprocess(session_data,track_ids,track_vector):\n",
        "    \"\"\"\n",
        "    Can be used to preprocess train/test data\n",
        "    For every track in a particular session, find its track features from track_vector, \n",
        "    and get the average features for skipped and non-skipped tracks from the first half of the same session.\n",
        "    Concat all the 3 with session features to get 43 final features.\n",
        "    Input:\n",
        "    Output: \n",
        "    \"\"\"\n",
        "    num_sess = len(list(set(session_data[\"session_id\"])))\n",
        "    data_x = []\n",
        "    data_y = []\n",
        "    total_count = 0\n",
        "    i = 0\n",
        "    while(i<num_sess):\n",
        "        sess_len = int(session_data[\"session_length\"][total_count])\n",
        "        skipped_feats = []\n",
        "        not_skipped_feats = []\n",
        "        session_feats = []\n",
        "        j = 0\n",
        "        while j < (int(sess_len/2)):\n",
        "            track_id = session_data[\"track_id_clean\"][total_count+j]\n",
        "            track_index = track_ids.index(track_id)\n",
        "            track_features = list(track_vector[track_index])\n",
        "            track_feature_length = len(track_features)\n",
        "            if session_data[\"skip_2\"][total_count+j] == True:\n",
        "                skipped_feats.append(track_features)\n",
        "            else :\n",
        "                not_skipped_feats.append(track_features)\n",
        "            if( j == (int(sess_len/2)) - 1 ):\n",
        "                session_feats.append(int(session_data[\"premium\"][total_count+j]))\n",
        "                session_feats.append(int(session_data[\"hour_of_day\"][total_count+j]/6))\n",
        "                session_feats.append(int(session_data[\"hist_user_behavior_is_shuffle\"][total_count+j]))\n",
        "            j += 1\n",
        "        skipped_feats = form_final_feat_vector(skipped_feats,track_feature_length)\n",
        "        not_skipped_feats = form_final_feat_vector(not_skipped_feats,track_feature_length)\n",
        "        while j < sess_len:\n",
        "            track_id = session_data[\"track_id_clean\"][total_count+j]\n",
        "            track_index = track_ids.index(track_id)\n",
        "            data_x.append([(j+1)/sess_len] + session_feats + skipped_feats + not_skipped_feats + list(track_vector[track_index]))\n",
        "            data_y.append(int(session_data[\"skip_2\"][total_count+j]))\n",
        "            j +=1 \n",
        "        total_count += sess_len\n",
        "        i += 1\n",
        "    return data_x,data_y"
      ],
      "metadata": {
        "id": "fFkRznzF8A1d"
      },
      "execution_count": 44,
      "outputs": []
    },
    {
      "cell_type": "code",
      "source": [
        "test_sess =  pd.read_csv(\"/content/drive/MyDrive/520final/data/training_set/test_try.csv\")\n",
        "train_sess = pd.read_csv(\"/content/drive/MyDrive/520final/data/training_set/train_try.csv\")\n",
        "tr_x,tr_y = preprocess(train_sess,track_ids,track_vector)\n",
        "ts_x,ts_y = preprocess(test_sess,track_ids,track_vector)\n",
        "print(len(tr_x),len(tr_y))\n",
        "print(len(ts_x),len(ts_y))"
      ],
      "metadata": {
        "colab": {
          "base_uri": "https://localhost:8080/"
        },
        "id": "HgtLUArw8afn",
        "outputId": "f7f9b54a-2012-43b9-889d-62d37e2b3db1"
      },
      "execution_count": 45,
      "outputs": [
        {
          "output_type": "stream",
          "name": "stdout",
          "text": [
            "68090 68090\n",
            "17034 17034\n"
          ]
        }
      ]
    },
    {
      "cell_type": "code",
      "source": [
        "np.save(\"/content/drive/MyDrive/520final/data/ts_x.npy\", ts_x, allow_pickle=True)\n",
        "np.save(\"/content/drive/MyDrive/520final/data/ts_y.npy\", ts_y, allow_pickle=True)"
      ],
      "metadata": {
        "id": "AWWJR7DY9uXw"
      },
      "execution_count": 48,
      "outputs": []
    },
    {
      "cell_type": "code",
      "source": [
        "np.save(\"/content/drive/MyDrive/520final/data/tr_x.npy\", tr_x, allow_pickle=True)\n",
        "np.save(\"/content/drive/MyDrive/520final/data/tr_y.npy\", tr_y, allow_pickle=True)"
      ],
      "metadata": {
        "id": "B61QPUgmnhwD"
      },
      "execution_count": 49,
      "outputs": []
    },
    {
      "cell_type": "code",
      "source": [
        "tr_x = np.load(\"/content/drive/MyDrive/520final/data/tr_x.npy\",allow_pickle=True)\n",
        "tr_y = np.load(\"/content/drive/MyDrive/520final/data/tr_y.npy\",allow_pickle=True)\n",
        "\n",
        "ts_x = np.load(\"/content/drive/MyDrive/520final/data/ts_x.npy\",allow_pickle=True)\n",
        "ts_y = np.load(\"/content/drive/MyDrive/520final/data/ts_y.npy\",allow_pickle=True)"
      ],
      "metadata": {
        "id": "Go8oI-l2p51z"
      },
      "execution_count": 50,
      "outputs": []
    },
    {
      "cell_type": "code",
      "source": [
        "ts_x.shape"
      ],
      "metadata": {
        "colab": {
          "base_uri": "https://localhost:8080/"
        },
        "id": "QulGpshMoeV5",
        "outputId": "6a5c67fa-1a0a-4e1e-c8e0-85558bb9259d"
      },
      "execution_count": 51,
      "outputs": [
        {
          "output_type": "execute_result",
          "data": {
            "text/plain": [
              "(17034, 43)"
            ]
          },
          "metadata": {},
          "execution_count": 51
        }
      ]
    },
    {
      "cell_type": "code",
      "source": [
        "tr_x.shape\n"
      ],
      "metadata": {
        "colab": {
          "base_uri": "https://localhost:8080/"
        },
        "id": "QdIuorqwog4B",
        "outputId": "13a3064a-bbb2-4ce0-ce4a-96b0be8de733"
      },
      "execution_count": 55,
      "outputs": [
        {
          "output_type": "execute_result",
          "data": {
            "text/plain": [
              "(68090, 43)"
            ]
          },
          "metadata": {},
          "execution_count": 55
        }
      ]
    },
    {
      "cell_type": "markdown",
      "source": [
        "**MODEL WALK-THROUGH**"
      ],
      "metadata": {
        "id": "4oVLmyK0JimU"
      }
    },
    {
      "cell_type": "markdown",
      "source": [
        "Analysis"
      ],
      "metadata": {
        "id": "G-UKcqBWqM_5"
      }
    },
    {
      "cell_type": "markdown",
      "source": [
        "Function for Extracting Session Lengths"
      ],
      "metadata": {
        "id": "pCh2jHbtqQHP"
      }
    },
    {
      "cell_type": "code",
      "source": [
        "def session_lengths(test_sess):\n",
        "  test_sess_ids = list(set(test_sess[\"session_id\"]))\n",
        "  test_len = len(test_sess_ids)\n",
        "  sess_lens = []\n",
        "  total_count = 0\n",
        "  i = 0\n",
        "  while(i < test_len ):\n",
        "      sess_len = int(test_sess[\"session_length\"][total_count])\n",
        "      sess_lens.append(math.ceil(sess_len/2))\n",
        "      total_count += sess_len\n",
        "      i += 1\n",
        "  return sess_lens"
      ],
      "metadata": {
        "id": "VlOAgEUyp-VT"
      },
      "execution_count": 23,
      "outputs": []
    },
    {
      "cell_type": "code",
      "source": [
        "test_sess_lens = session_lengths(test_sess)\n",
        "train_sess_lens = session_lengths(train_sess)"
      ],
      "metadata": {
        "id": "H94yae-ZqVHh"
      },
      "execution_count": 24,
      "outputs": []
    },
    {
      "cell_type": "code",
      "source": [
        "def process(test_data,sess_lens):\n",
        "    res = []\n",
        "    i = 0\n",
        "    for sess_len in sess_lens:\n",
        "        res.append(test_data[i:i+sess_len])\n",
        "        i = i+sess_len\n",
        "    return res"
      ],
      "metadata": {
        "id": "p5u4ow9us8-7"
      },
      "execution_count": 25,
      "outputs": []
    },
    {
      "cell_type": "markdown",
      "source": [
        "Evaluation"
      ],
      "metadata": {
        "id": "lcuS602NtFej"
      }
    },
    {
      "cell_type": "code",
      "source": [
        "def evaluate(submission,groundtruth):\n",
        "    ap_sum = 0.0\n",
        "    first_pred_acc_sum = 0.0\n",
        "    counter = 0\n",
        "    for sub, tru in zip(submission, groundtruth):\n",
        "        ap_sum += ave_pre(sub,tru,counter)\n",
        "        first_pred_acc_sum += sub[0] == tru[0]\n",
        "        counter+=1\n",
        "    ap = ap_sum/counter\n",
        "    first_pred_acc = first_pred_acc_sum/counter\n",
        "    return ap,first_pred_acc"
      ],
      "metadata": {
        "id": "6W6atyLPtBTt"
      },
      "execution_count": 26,
      "outputs": []
    },
    {
      "cell_type": "markdown",
      "source": [
        "Average Predictions"
      ],
      "metadata": {
        "id": "U8gm_J3VtKTF"
      }
    },
    {
      "cell_type": "code",
      "source": [
        "def ave_pre(submission,groundtruth,counter):\n",
        "    s = 0.0\n",
        "    t = 0.0\n",
        "    c = 1.0\n",
        "    for x, y in zip(submission, groundtruth):\n",
        "        if x != 0 and x != 1:\n",
        "            raise Exception('Invalid prediction in line {}, should be 0 or 1'.format(counter))\n",
        "        if x==y:\n",
        "            s += 1.0\n",
        "            t += s / c\n",
        "        c += 1\n",
        "    return t/len(groundtruth)"
      ],
      "metadata": {
        "id": "3jy4tW8itHKJ"
      },
      "execution_count": 27,
      "outputs": []
    },
    {
      "cell_type": "markdown",
      "source": [
        "Simple Baseline"
      ],
      "metadata": {
        "id": "Owvp3UBUuLN7"
      }
    },
    {
      "cell_type": "code",
      "source": [
        "pred_0 = np.zeros((ts_y.shape[0]))\n",
        "pred_1 = pred_0 + 1"
      ],
      "metadata": {
        "id": "lMELazLauKy5"
      },
      "execution_count": 28,
      "outputs": []
    },
    {
      "cell_type": "code",
      "source": [
        "accuracy = accuracy_score(ts_y, pred_0)\n",
        "print(\"Accuracy for all labelled as Not Skipped: %.2f%%\" % (accuracy * 100.0))"
      ],
      "metadata": {
        "colab": {
          "base_uri": "https://localhost:8080/"
        },
        "id": "a4GTNIVKuSgE",
        "outputId": "8429bb2a-af5c-4d73-d00f-ab937e2055a7"
      },
      "execution_count": 29,
      "outputs": [
        {
          "output_type": "stream",
          "name": "stdout",
          "text": [
            "Accuracy for all labelled as Not Skipped: 47.95%\n"
          ]
        }
      ]
    },
    {
      "cell_type": "code",
      "source": [
        "accuracy = accuracy_score(ts_y, pred_1)\n",
        "print(\"Accuracy: %.2f%%\" % (accuracy * 100.0))"
      ],
      "metadata": {
        "colab": {
          "base_uri": "https://localhost:8080/"
        },
        "id": "gfDzC7rIudA6",
        "outputId": "fc4241e8-6f06-414e-f37b-c9fd2618eec1"
      },
      "execution_count": 30,
      "outputs": [
        {
          "output_type": "stream",
          "name": "stdout",
          "text": [
            "Accuracy: 52.05%\n"
          ]
        }
      ]
    },
    {
      "cell_type": "markdown",
      "source": [
        "Strong Baseline"
      ],
      "metadata": {
        "id": "SNMU5X-suraM"
      }
    },
    {
      "cell_type": "code",
      "source": [
        "def cos_sim(vA,vB):\n",
        "  return np.dot(vA, vB) / (np.sqrt(np.dot(vA,vA)) * np.sqrt(np.dot(vB,vB)) + 0.0001)"
      ],
      "metadata": {
        "id": "9BLEZJBOu0Cp"
      },
      "execution_count": 31,
      "outputs": []
    },
    {
      "cell_type": "code",
      "source": [
        "base_pred = np.zeros(ts_x.shape[0])\n",
        "for i in range(len(ts_x)):\n",
        "  skip = ts_x[i][4:17]\n",
        "  not_skip = ts_x[i][17:30]\n",
        "  current = ts_x[i][30:]\n",
        "  flag = 0\n",
        "  if(cos_sim(skip, current) > cos_sim(not_skip, current)):\n",
        "    flag = 1\n",
        "  base_pred[i] = flag"
      ],
      "metadata": {
        "id": "Rgz7erJjurJz"
      },
      "execution_count": 32,
      "outputs": []
    },
    {
      "cell_type": "code",
      "source": [
        "predictions = [round(value) for value in base_pred]\n",
        "accuracy = accuracy_score(ts_y, predictions)\n",
        "MAA, FPR = evaluate(process(predictions,test_sess_lens),process(ts_y,test_sess_lens))\n",
        "print(\"Sklearn Accuracy: %.2f%%\" % (accuracy * 100.0))\n",
        "print(\"MAA Accuracy: %.2f%%\" % (MAA * 100.0))\n",
        "print(\"FPR Accuracy: %.2f%%\" % (FPR * 100.0))"
      ],
      "metadata": {
        "colab": {
          "base_uri": "https://localhost:8080/"
        },
        "id": "JO71MZEJu5C6",
        "outputId": "cba53f0a-d226-4163-f42e-e07b89ca4f37"
      },
      "execution_count": 33,
      "outputs": [
        {
          "output_type": "stream",
          "name": "stdout",
          "text": [
            "Sklearn Accuracy: 50.95%\n",
            "MAA Accuracy: 35.30%\n",
            "FPR Accuracy: 53.57%\n"
          ]
        }
      ]
    },
    {
      "cell_type": "markdown",
      "source": [
        "XGBoost"
      ],
      "metadata": {
        "id": "4kPw4plLqwBg"
      }
    },
    {
      "cell_type": "code",
      "source": [
        "model = XGBClassifier(max_depth=2, n_estimators=100)\n",
        "model.fit(tr_x, tr_y)"
      ],
      "metadata": {
        "colab": {
          "base_uri": "https://localhost:8080/"
        },
        "id": "kt5T2-BEqtB7",
        "outputId": "18fb09c4-d2b5-47c3-ac3a-f7e04fc3e901"
      },
      "execution_count": 56,
      "outputs": [
        {
          "output_type": "execute_result",
          "data": {
            "text/plain": [
              "XGBClassifier(max_depth=2)"
            ]
          },
          "metadata": {},
          "execution_count": 56
        }
      ]
    },
    {
      "cell_type": "markdown",
      "source": [
        "Predictions"
      ],
      "metadata": {
        "id": "p4a2Cmkkt9gQ"
      }
    },
    {
      "cell_type": "code",
      "source": [
        "y_pred = model.predict(ts_x)\n",
        "predictions = [round(value) for value in y_pred]\n",
        "accuracy = accuracy_score(ts_y, predictions)\n",
        "MAA, FPR = evaluate(process(predictions,test_sess_lens),process(ts_y,test_sess_lens))\n",
        "print(\"Sklearn Accuracy: %.2f%%\" % (accuracy * 100.0))\n",
        "print(\"MAA Accuracy: %.2f%%\" % (MAA * 100.0))\n",
        "print(\"FPR Accuracy: %.2f%%\" % (FPR * 100.0))"
      ],
      "metadata": {
        "colab": {
          "base_uri": "https://localhost:8080/"
        },
        "id": "77qoS_XPs2N0",
        "outputId": "418a68d5-ac88-4b07-b88b-cdecc2e99f23"
      },
      "execution_count": 57,
      "outputs": [
        {
          "output_type": "stream",
          "name": "stdout",
          "text": [
            "Sklearn Accuracy: 59.89%\n",
            "MAA Accuracy: 48.15%\n",
            "FPR Accuracy: 62.56%\n"
          ]
        }
      ]
    },
    {
      "cell_type": "markdown",
      "source": [
        "Random Forest"
      ],
      "metadata": {
        "id": "-qeQvBgNsiz7"
      }
    },
    {
      "cell_type": "code",
      "source": [
        "model = RandomForestClassifier(max_depth=9, n_estimators=125)\n",
        "model.fit(tr_x, tr_y)"
      ],
      "metadata": {
        "colab": {
          "base_uri": "https://localhost:8080/"
        },
        "id": "cGQCK89YqoIg",
        "outputId": "923d8e59-2daf-450c-97a4-af462576b8c9"
      },
      "execution_count": 58,
      "outputs": [
        {
          "output_type": "execute_result",
          "data": {
            "text/plain": [
              "RandomForestClassifier(max_depth=9, n_estimators=125)"
            ]
          },
          "metadata": {},
          "execution_count": 58
        }
      ]
    },
    {
      "cell_type": "markdown",
      "source": [
        "Predictions"
      ],
      "metadata": {
        "id": "z9WRioZwssXT"
      }
    },
    {
      "cell_type": "code",
      "source": [
        "y_pred = model.predict(ts_x)\n",
        "predictions = [round(value) for value in y_pred]\n",
        "accuracy = accuracy_score(ts_y, predictions)\n",
        "MAA, FPR = evaluate(process(predictions,test_sess_lens),process(ts_y,test_sess_lens))\n",
        "print(\"Sklearn Accuracy: %.2f%%\" % (accuracy * 100.0))\n",
        "print(\"MAA Accuracy: %.2f%%\" % (MAA * 100.0))\n",
        "print(\"FPR Accuracy: %.2f%%\" % (FPR * 100.0))"
      ],
      "metadata": {
        "colab": {
          "base_uri": "https://localhost:8080/"
        },
        "id": "uobo4r1Zsldk",
        "outputId": "8c4d1036-a21a-43b6-ca33-b310d70cd78d"
      },
      "execution_count": 59,
      "outputs": [
        {
          "output_type": "stream",
          "name": "stdout",
          "text": [
            "Sklearn Accuracy: 59.38%\n",
            "MAA Accuracy: 47.40%\n",
            "FPR Accuracy: 61.01%\n"
          ]
        }
      ]
    },
    {
      "cell_type": "markdown",
      "source": [
        "10 Classifier Approach"
      ],
      "metadata": {
        "id": "8-Klj0K9zfE5"
      }
    },
    {
      "cell_type": "code",
      "source": [
        "X_3D = []\n",
        "y_2D = []\n",
        "for i in range(10):\n",
        "  X_3D.append([])\n",
        "  y_2D.append([])\n",
        "tot = 0\n",
        "for i in train_sess_lens:\n",
        "  for j in range(i):\n",
        "    X_3D[j].append(tr_x[tot + j])\n",
        "    y_2D[j].append(tr_y[tot + j])\n",
        "  tot += i"
      ],
      "metadata": {
        "id": "goAdoYRIunQm"
      },
      "execution_count": 60,
      "outputs": []
    },
    {
      "cell_type": "code",
      "source": [
        "def classifiers(X_3D, y_2D):\n",
        "  models = []\n",
        "  for i in range(10):\n",
        "    clf = XGBClassifier(n_estimators=100,max_depth=2)\n",
        "    clf.fit(np.array(X_3D[i]), np.array(y_2D[i]))\n",
        "    models.append(clf)\n",
        "  return models"
      ],
      "metadata": {
        "id": "2bXCq40hunM_"
      },
      "execution_count": 61,
      "outputs": []
    },
    {
      "cell_type": "code",
      "source": [
        "models = classifiers(X_3D,y_2D)"
      ],
      "metadata": {
        "id": "xeuScTibunGS"
      },
      "execution_count": 62,
      "outputs": []
    },
    {
      "cell_type": "code",
      "metadata": {
        "id": "sif_tEwyscnN"
      },
      "source": [
        "def predict_classifier(ts_x, models):\n",
        "  tot = 0\n",
        "  y_pred = []\n",
        "  for i in test_sess_lens:\n",
        "    for j in range(i):\n",
        "      y_pred.append(models[j].predict([ts_x[tot + j]])[0])\n",
        "    tot += i\n",
        "  return y_pred"
      ],
      "execution_count": 63,
      "outputs": []
    },
    {
      "cell_type": "code",
      "metadata": {
        "id": "dNiiCmdmybts"
      },
      "source": [
        "y_pred = predict_classifier(ts_x,models)"
      ],
      "execution_count": 64,
      "outputs": []
    },
    {
      "cell_type": "code",
      "metadata": {
        "colab": {
          "base_uri": "https://localhost:8080/"
        },
        "id": "Ay7uX4As2JNr",
        "outputId": "17891999-0347-4c85-96b9-925e335a5cc2"
      },
      "source": [
        "accuracy = accuracy_score(ts_y, y_pred)\n",
        "MAA, FPR = evaluate(process(y_pred,test_sess_lens),process(ts_y,test_sess_lens))\n",
        "print(\"Sklearn Accuracy: %.2f%%\" % (accuracy * 100.0))\n",
        "print(\"MAA Accuracy: %.2f%%\" % (MAA * 100.0))\n",
        "print(\"FPR Accuracy: %.2f%%\" % (FPR * 100.0))"
      ],
      "execution_count": 65,
      "outputs": [
        {
          "output_type": "stream",
          "name": "stdout",
          "text": [
            "Sklearn Accuracy: 60.56%\n",
            "MAA Accuracy: 47.55%\n",
            "FPR Accuracy: 60.96%\n"
          ]
        }
      ]
    },
    {
      "cell_type": "markdown",
      "source": [
        "Taking the input of the last played track in training data (whether it was skipped or not)"
      ],
      "metadata": {
        "id": "m_WHKp8c5bM2"
      }
    },
    {
      "cell_type": "code",
      "metadata": {
        "id": "msuCYpBf2X-j"
      },
      "source": [
        "St0s = np.load(\"/content/drive/MyDrive/520final/data/St0s.npy\",allow_pickle=True)"
      ],
      "execution_count": 66,
      "outputs": []
    },
    {
      "cell_type": "code",
      "metadata": {
        "id": "lP87WO9MP0Sj"
      },
      "source": [
        "def inverse_process(St0s,sess_lens):\n",
        "    res = []\n",
        "    i = 0\n",
        "    for val,sess_len, in zip(St0s,sess_lens):\n",
        "        for i in range(sess_len):\n",
        "            res.append(val)\n",
        "    return res"
      ],
      "execution_count": 67,
      "outputs": []
    },
    {
      "cell_type": "code",
      "metadata": {
        "id": "fUbedfPAXjV8"
      },
      "source": [
        "def set_threshold(pred):\n",
        "    if flag == 0:\n",
        "        if(pred>0.5):\n",
        "            return 1\n",
        "        else:\n",
        "            return 0\n",
        "    else:\n",
        "        if(pred>=0.5):\n",
        "            return 1\n",
        "        else:\n",
        "            return 0"
      ],
      "execution_count": 68,
      "outputs": []
    },
    {
      "cell_type": "code",
      "metadata": {
        "id": "VvkO-H2nVj8O"
      },
      "source": [
        "def predict_sol_2(ts_x, models):\n",
        "  tot = 0\n",
        "  y_pred = []\n",
        "  for i in test_sess_lens:\n",
        "    for j in range(i):\n",
        "        pred = models[j].predict([ts_x[tot + j]])[0]\n",
        "        y_pred.append(set_threshold(pred*0.5 + 0.5*St0s[tot + j]))\n",
        "    tot += i\n",
        "  return y_pred"
      ],
      "execution_count": 69,
      "outputs": []
    },
    {
      "cell_type": "code",
      "metadata": {
        "colab": {
          "base_uri": "https://localhost:8080/"
        },
        "id": "SLCgP0kNVnl_",
        "outputId": "3d2727a3-dce5-488a-fea8-e4841b1550a4"
      },
      "source": [
        "y_pred = predict_sol_2(ts_x,models)\n",
        "accuracy = accuracy_score(ts_y, y_pred)\n",
        "MAA, FPR = evaluate(process(y_pred,test_sess_lens),process(ts_y,test_sess_lens))\n",
        "print(\"Sklearn Accuracy: %.2f%%\" % (accuracy * 100.0))\n",
        "print(\"MAA Accuracy: %.2f%%\" % (MAA * 100.0))\n",
        "print(\"FPR Accuracy: %.2f%%\" % (FPR * 100.0))"
      ],
      "execution_count": 70,
      "outputs": [
        {
          "output_type": "stream",
          "name": "stdout",
          "text": [
            "Sklearn Accuracy: 64.08%\n",
            "MAA Accuracy: 53.45%\n",
            "FPR Accuracy: 71.89%\n"
          ]
        }
      ]
    },
    {
      "cell_type": "code",
      "metadata": {
        "colab": {
          "base_uri": "https://localhost:8080/"
        },
        "id": "htwc95paYnwE",
        "outputId": "1bf7f4ba-4761-4ea1-eb9b-fcf43555ec9d"
      },
      "source": [
        "def predict_sol_3(ts_x, models):\n",
        "  tot = 0\n",
        "  y_pred = []\n",
        "  for i in test_sess_lens: #all\n",
        "    for j in range(i): #models\n",
        "        pred = models[j].predict([ts_x[tot + j]])[0]\n",
        "        if(j == 0 ):\n",
        "            y_pred.append(set_threshold(pred*0.5 + 0.5*St0s[tot + j]))\n",
        "        else:\n",
        "           y_pred.append(set_threshold(pred*0.5 + 0.5*y_pred[-1])) \n",
        "    tot += i\n",
        "  return y_pred\n",
        "y_pred = predict_sol_3(ts_x,models)\n",
        "accuracy = accuracy_score(ts_y, y_pred)\n",
        "MAA, FPR = evaluate(process(y_pred,test_sess_lens),process(ts_y,test_sess_lens))\n",
        "print(\"Sklearn Accuracy: %.2f%%\" % (accuracy * 100.0))\n",
        "print(\"MAA Accuracy: %.2f%%\" % (MAA * 100.0))\n",
        "print(\"FPR Accuracy: %.2f%%\" % (FPR * 100.0))"
      ],
      "execution_count": 71,
      "outputs": [
        {
          "output_type": "stream",
          "name": "stdout",
          "text": [
            "Sklearn Accuracy: 62.82%\n",
            "MAA Accuracy: 52.76%\n",
            "FPR Accuracy: 71.89%\n"
          ]
        }
      ]
    }
  ]
}